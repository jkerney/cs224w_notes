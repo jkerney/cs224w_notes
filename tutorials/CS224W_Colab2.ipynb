{
  "cells": [
    {
      "cell_type": "markdown",
      "metadata": {
        "id": "XuXWJLEm2UWS"
      },
      "source": [
        "# **CS224W - Colab 2**"
      ]
    },
    {
      "cell_type": "markdown",
      "metadata": {
        "id": "8gzsP50bF6Gb"
      },
      "source": [
        "In Colab 2, we will work to construct our own graph neural network using PyTorch Geometric (PyG) and then apply that model on two Open Graph Benchmark (OGB) datasets. These two datasets will be used to benchmark your model's performance on two different graph-based tasks: 1) node property prediction, predicting properties of single nodes and 2) graph property prediction, predicting properties of entire graphs or subgraphs.\n",
        "\n",
        "First, we will learn how PyTorch Geometric stores graphs as PyTorch tensors.\n",
        "\n",
        "Then, we will load and inspect one of the Open Graph Benchmark (OGB) datasets by using the `ogb` package. OGB is a collection of realistic, large-scale, and diverse benchmark datasets for machine learning on graphs. The `ogb` package not only provides data loaders for each dataset but also model evaluators.\n",
        "\n",
        "Lastly, we will build our own graph neural network using PyTorch Geometric. We will then train and evaluate our model on the OGB node property prediction and graph property prediction tasks.\n",
        "\n",
        "**Note**: Make sure to **sequentially run all the cells in each section**, so that the intermediate variables / packages will carry over to the next cell\n",
        "\n",
        "We recommend you save a copy of this colab in your drive so you don't lose progress!\n",
        "\n",
        "Have fun and good luck on Colab 2 :)"
      ]
    },
    {
      "cell_type": "markdown",
      "metadata": {
        "id": "ZGKqVEbbMEzf"
      },
      "source": [
        "# Device\n",
        "You might need to use a GPU for this Colab to run quickly.\n",
        "\n",
        "Please click `Runtime` and then `Change runtime type`. Then set the `hardware accelerator` to **GPU**."
      ]
    },
    {
      "cell_type": "markdown",
      "metadata": {
        "id": "OCK7krJdp4o8"
      },
      "source": [
        "# Setup\n",
        "As discussed in Colab 0, the installation of PyG on Colab can be a little bit tricky. First let us check which version of PyTorch you are running"
      ]
    },
    {
      "cell_type": "code",
      "execution_count": 2,
      "metadata": {
        "id": "2vkP8pA1qBE5"
      },
      "outputs": [
        {
          "name": "stdout",
          "output_type": "stream",
          "text": [
            "PyTorch has version 1.12.1\n"
          ]
        }
      ],
      "source": [
        "import torch\n",
        "import os\n",
        "print(\"PyTorch has version {}\".format(torch.__version__))"
      ]
    },
    {
      "cell_type": "markdown",
      "metadata": {
        "id": "L6d22O6DqGSZ"
      },
      "source": [
        "Download the necessary packages for PyG. Make sure that your version of torch matches the output from the cell above. In case of any issues, more information can be found on the [PyG's installation page](https://pytorch-geometric.readthedocs.io/en/latest/notes/installation.html)."
      ]
    },
    {
      "cell_type": "code",
      "execution_count": 3,
      "metadata": {
        "id": "zr8hfxJ-qRg2"
      },
      "outputs": [
        {
          "ename": "SyntaxError",
          "evalue": "invalid syntax (3216842878.py, line 8)",
          "output_type": "error",
          "traceback": [
            "\u001b[0;36m  Cell \u001b[0;32mIn[3], line 8\u001b[0;36m\u001b[0m\n\u001b[0;31m    conda install pyg -c pyg\u001b[0m\n\u001b[0m          ^\u001b[0m\n\u001b[0;31mSyntaxError\u001b[0m\u001b[0;31m:\u001b[0m invalid syntax\n"
          ]
        }
      ],
      "source": [
        "# Install torch geometric\n",
        "#if 'IS_GRADESCOPE_ENV' not in os.environ:\n",
        "  # !pip install torch-scatter -f https://pytorch-geometric.com/whl/torch-1.12.1+cu111.html\n",
        "  # !pip install torch-sparse -f https://pytorch-geometric.com/whl/torch-1.12.1+cu111.html\n",
        "  # !pip install torch-geometric\n",
        "  # !pip install ogb\n",
        "\n",
        "# I ran these in the terminal\n",
        "# conda install -c pyg pyg\n",
        "# conda install -c conda-forge ogb"
      ]
    },
    {
      "cell_type": "markdown",
      "metadata": {
        "id": "Nwwq0nSdmsOL"
      },
      "source": [
        "# 1) PyTorch Geometric (Datasets and Data)\n"
      ]
    },
    {
      "cell_type": "markdown",
      "metadata": {
        "id": "Sf7vUmdNKCjA"
      },
      "source": [
        "PyTorch Geometric has two classes for storing and/or transforming graphs into tensor format. One is `torch_geometric.datasets`, which contains a variety of common graph datasets. Another is `torch_geometric.data`, which provides the data handling of graphs in PyTorch tensors.\n",
        "\n",
        "In this section, we will learn how to use `torch_geometric.datasets` and `torch_geometric.data` together."
      ]
    },
    {
      "cell_type": "markdown",
      "metadata": {
        "id": "ic-o1P3r6hr2"
      },
      "source": [
        "## PyG Datasets\n",
        "\n",
        "The `torch_geometric.datasets` class has many common graph datasets. Here we will explore its usage through one example dataset."
      ]
    },
    {
      "cell_type": "code",
      "execution_count": 5,
      "metadata": {
        "id": "zT5qca3x6XpG"
      },
      "outputs": [
        {
          "name": "stdout",
          "output_type": "stream",
          "text": [
            "ENZYMES(600)\n"
          ]
        }
      ],
      "source": [
        "from torch_geometric.datasets import TUDataset\n",
        "\n",
        "if 'IS_GRADESCOPE_ENV' not in os.environ:\n",
        "  root = './enzymes'\n",
        "  name = 'ENZYMES'\n",
        "\n",
        "  # The ENZYMES dataset\n",
        "  pyg_dataset= TUDataset(root, name)\n",
        "\n",
        "  # You will find that there are 600 graphs in this dataset\n",
        "  print(pyg_dataset)"
      ]
    },
    {
      "cell_type": "markdown",
      "metadata": {
        "id": "NLm5vVYMAP2x"
      },
      "source": [
        "## Question 1: What is the number of classes and number of features in the ENZYMES dataset? (5 points)"
      ]
    },
    {
      "cell_type": "code",
      "execution_count": 22,
      "metadata": {},
      "outputs": [
        {
          "name": "stdout",
          "output_type": "stream",
          "text": [
            "ENZYMES(600)\n",
            "<class 'torch_geometric.datasets.tu_dataset.TUDataset'>\n",
            "['__add__', '__annotations__', '__class__', '__class_getitem__', '__delattr__', '__dict__', '__dir__', '__doc__', '__eq__', '__format__', '__ge__', '__getattribute__', '__getitem__', '__gt__', '__hash__', '__init__', '__init_subclass__', '__le__', '__len__', '__lt__', '__module__', '__ne__', '__new__', '__orig_bases__', '__parameters__', '__reduce__', '__reduce_ex__', '__repr__', '__setattr__', '__sizeof__', '__slots__', '__str__', '__subclasshook__', '__weakref__', '_data_list', '_download', '_indices', '_infer_num_classes', '_is_protocol', '_process', 'cleaned', 'cleaned_url', 'collate', 'copy', 'data', 'download', 'get', 'get_summary', 'index_select', 'indices', 'len', 'log', 'name', 'num_classes', 'num_edge_attributes', 'num_edge_features', 'num_edge_labels', 'num_features', 'num_node_attributes', 'num_node_features', 'num_node_labels', 'pre_filter', 'pre_transform', 'print_summary', 'process', 'processed_dir', 'processed_file_names', 'processed_paths', 'raw_dir', 'raw_file_names', 'raw_paths', 'root', 'shuffle', 'sizes', 'slices', 'transform', 'url']\n",
            "{'name': 'ENZYMES', 'cleaned': False, 'root': 'enzymes', 'transform': None, 'pre_transform': None, 'pre_filter': None, 'log': True, '_indices': None, 'data': Data(x=[19580, 3], edge_index=[2, 74564], y=[600]), 'slices': {'edge_index': tensor([    0,   168,   270,   362,   452,   542,   634,   752,  1018,  1096,\n",
            "         1202,  1214,  1270,  1420,  1566,  1694,  1888,  2078,  2260,  2262,\n",
            "         2402,  2582,  2762,  2924,  3108,  3284,  3454,  3620,  3718,  3812,\n",
            "         3944,  4106,  4264,  4428,  4456,  4544,  4706,  4866,  4898,  4984,\n",
            "         5084,  5274,  5468,  5658,  5848,  6042,  6232,  6334,  6448,  6576,\n",
            "         6606,  6700,  6870,  6932,  6994,  7018,  7092,  7128,  7228,  7292,\n",
            "         7328,  7360,  7500,  7610,  7708,  7786,  7872,  7980,  8130,  8240,\n",
            "         8348,  8524,  8664,  8838,  9026,  9098,  9168,  9224,  9282,  9362,\n",
            "         9426,  9564,  9652,  9736,  9884, 10020, 10158, 10304, 10486, 10674,\n",
            "        10806, 10964, 11118, 11230, 11364, 11492, 11556, 11686, 11820, 11936,\n",
            "        11954, 12130, 12294, 12524, 12652, 12790, 12850, 13016, 13180, 13320,\n",
            "        13378, 13476, 13666, 13862, 13956, 14058, 14206, 14386, 14628, 14672,\n",
            "        14764, 14928, 14986, 15240, 15302, 15368, 15462, 15508, 15582, 15622,\n",
            "        15672, 15742, 15806, 15874, 15976, 16028, 16034, 16114, 16186, 16350,\n",
            "        16406, 16454, 16512, 16634, 16704, 16782, 16956, 17124, 17284, 17448,\n",
            "        17530, 17610, 17654, 17686, 17730, 17796, 17840, 17870, 17996, 18046,\n",
            "        18142, 18226, 18290, 18334, 18406, 18458, 18530, 18718, 18886, 19074,\n",
            "        19156, 19354, 19446, 19638, 19834, 19920, 20112, 20304, 20480, 20598,\n",
            "        20718, 20880, 21052, 21240, 21422, 21612, 21692, 21880, 21958, 22148,\n",
            "        22246, 22438, 22570, 22690, 22890, 23074, 23246, 23400, 23554, 23770,\n",
            "        23914, 24020, 24110, 24310, 24520, 24642, 24728, 24814, 24914, 25116,\n",
            "        25216, 25316, 25410, 25520, 25622, 25830, 25924, 25992, 26186, 26314,\n",
            "        26396, 26522, 26636, 26794, 27004, 27074, 27222, 27384, 27536, 27636,\n",
            "        27772, 27924, 28054, 28196, 28336, 28478, 28548, 28570, 28670, 28750,\n",
            "        28832, 28960, 29082, 29206, 29330, 29506, 29658, 29774, 29870, 29974,\n",
            "        30108, 30160, 30280, 30412, 30492, 30552, 30618, 30676, 30748, 30818,\n",
            "        30902, 31006, 31108, 31228, 31324, 31422, 31544, 31662, 31804, 31950,\n",
            "        32070, 32210, 32366, 32534, 32680, 32802, 32914, 33054, 33224, 33438,\n",
            "        33540, 33604, 33776, 33950, 34106, 34274, 34438, 34604, 34762, 34922,\n",
            "        35070, 35278, 35478, 35696, 35894, 36172, 36454, 36752, 36854, 37002,\n",
            "        37188, 37366, 37534, 37700, 37864, 38050, 38246, 38430, 38594, 38782,\n",
            "        38980, 39080, 39258, 39450, 39526, 39710, 39890, 40018, 40124, 40214,\n",
            "        40320, 40404, 40518, 40592, 40666, 40862, 41054, 41242, 41340, 41384,\n",
            "        41436, 41532, 41634, 41756, 41858, 41960, 42064, 42172, 42216, 42314,\n",
            "        42412, 42520, 42618, 42708, 42786, 42902, 43036, 43210, 43380, 43616,\n",
            "        43758, 43842, 43858, 43960, 44044, 44268, 44380, 44504, 44616, 44708,\n",
            "        44816, 44934, 45016, 45108, 45206, 45356, 45508, 45558, 45596, 45630,\n",
            "        45678, 45782, 45834, 45874, 45942, 46022, 46066, 46206, 46308, 46412,\n",
            "        46534, 46650, 46838, 46942, 47050, 47108, 47136, 47192, 47320, 47430,\n",
            "        47592, 47694, 47872, 47928, 47972, 48168, 48238, 48316, 48362, 48448,\n",
            "        48564, 48758, 48860, 48974, 49086, 49186, 49314, 49434, 49566, 49686,\n",
            "        49810, 49948, 50084, 50242, 50388, 50540, 50632, 50726, 50878, 50980,\n",
            "        51074, 51172, 51286, 51362, 51494, 51572, 51638, 51766, 51880, 51988,\n",
            "        52102, 52176, 52254, 52346, 52486, 52578, 52644, 52690, 52888, 53086,\n",
            "        53186, 53298, 53488, 53640, 53798, 53900, 54016, 54128, 54274, 54388,\n",
            "        54504, 54606, 54714, 54804, 54882, 54956, 55024, 55108, 55166, 55320,\n",
            "        55450, 55608, 55668, 55720, 55810, 56008, 56084, 56166, 56240, 56300,\n",
            "        56348, 56422, 56608, 56660, 56750, 56796, 56844, 56896, 56972, 57070,\n",
            "        57146, 57194, 57282, 57374, 57534, 57678, 57780, 57834, 57918, 58040,\n",
            "        58174, 58314, 58472, 58608, 58730, 58884, 59036, 59192, 59336, 59488,\n",
            "        59684, 59844, 59990, 60156, 60396, 60482, 60580, 60672, 60768, 60944,\n",
            "        61074, 61208, 61344, 61528, 61704, 61806, 61948, 62126, 62238, 62392,\n",
            "        62540, 62698, 62862, 63084, 63232, 63364, 63584, 63798, 63904, 63990,\n",
            "        64156, 64320, 64560, 64730, 64928, 65096, 65280, 65458, 65634, 65818,\n",
            "        66002, 66154, 66356, 66508, 66666, 66820, 66984, 67148, 67238, 67332,\n",
            "        67422, 67618, 67790, 67954, 68082, 68174, 68270, 68468, 68654, 68788,\n",
            "        68922, 69026, 69136, 69296, 69444, 69512, 69578, 69640, 69708, 69878,\n",
            "        70034, 70198, 70356, 70520, 70700, 70920, 71022, 71126, 71332, 71438,\n",
            "        71588, 71694, 71768, 71962, 72052, 72194, 72296, 72380, 72464, 72588,\n",
            "        72700, 72896, 73052, 73196, 73424, 73604, 73786, 74018, 74218, 74408,\n",
            "        74564]), 'x': tensor([    0,    37,    60,    85,   109,   132,   156,   182,   270,   293,\n",
            "          325,   329,   343,   385,   426,   462,   517,   557,   595,   597,\n",
            "          632,   674,   715,   754,   796,   837,   877,   914,   937,   959,\n",
            "          993,  1031,  1069,  1108,  1116,  1139,  1181,  1223,  1323,  1347,\n",
            "         1371,  1418,  1463,  1508,  1553,  1599,  1643,  1673,  1705,  1738,\n",
            "         1747,  1774,  1813,  1829,  1847,  1854,  1872,  1882,  1903,  1921,\n",
            "         1931,  1940,  1979,  2012,  2041,  2065,  2090,  2120,  2158,  2186,\n",
            "         2214,  2252,  2292,  2332,  2374,  2394,  2413,  2429,  2446,  2466,\n",
            "         2484,  2517,  2540,  2563,  2598,  2631,  2670,  2710,  2748,  2788,\n",
            "         2826,  2863,  2899,  2933,  2967,  2999,  3017,  3049,  3083,  3113,\n",
            "         3118,  3163,  3205,  3264,  3296,  3329,  3346,  3385,  3423,  3458,\n",
            "         3474,  3500,  3551,  3603,  3628,  3655,  3697,  3743,  3839,  3851,\n",
            "         3873,  3915,  3929,  4019,  4033,  4047,  4079,  4090,  4116,  4127,\n",
            "         4141,  4159,  4175,  4192,  4224,  4237,  4240,  4262,  4278,  4316,\n",
            "         4329,  4341,  4355,  4394,  4413,  4433,  4472,  4512,  4551,  4590,\n",
            "         4619,  4641,  4652,  4660,  4673,  4691,  4703,  4711,  4751,  4763,\n",
            "         4785,  4807,  4825,  4837,  4854,  4868,  4890,  4933,  4975,  5019,\n",
            "         5043,  5091,  5116,  5162,  5210,  5235,  5283,  5327,  5369,  5409,\n",
            "         5447,  5487,  5528,  5570,  5610,  5654,  5678,  5722,  5742,  5784,\n",
            "         5811,  5859,  5890,  5920,  5966,  6013,  6063,  6103,  6158,  6220,\n",
            "         6254,  6283,  6308,  6364,  6421,  6448,  6470,  6494,  6517,  6574,\n",
            "         6598,  6622,  6645,  6670,  6693,  6741,  6768,  6783,  6827,  6856,\n",
            "         6877,  6911,  6941,  6981,  7035,  7053,  7089,  7126,  7160,  7183,\n",
            "         7215,  7248,  7277,  7316,  7350,  7386,  7407,  7413,  7435,  7453,\n",
            "         7471,  7505,  7537,  7570,  7598,  7638,  7680,  7719,  7747,  7776,\n",
            "         7806,  7820,  7852,  7887,  7911,  7928,  7946,  7962,  7981,  8000,\n",
            "         8021,  8044,  8069,  8096,  8120,  8144,  8176,  8207,  8240,  8274,\n",
            "         8306,  8338,  8382,  8422,  8462,  8500,  8530,  8568,  8612,  8672,\n",
            "         8700,  8716,  8766,  8818,  8866,  8916,  8958,  9001,  9042,  9081,\n",
            "         9119,  9181,  9241,  9337,  9391,  9515,  9641,  9763,  9787,  9828,\n",
            "         9877,  9921,  9963, 10004, 10046, 10092, 10147, 10197, 10239, 10287,\n",
            "        10338, 10362, 10413, 10465, 10487, 10531, 10575, 10606, 10633, 10658,\n",
            "        10696, 10717, 10746, 10766, 10787, 10837, 10883, 10932, 10959, 10971,\n",
            "        10985, 11008, 11032, 11065, 11092, 11117, 11145, 11173, 11185, 11211,\n",
            "        11239, 11267, 11293, 11317, 11340, 11367, 11406, 11448, 11490, 11554,\n",
            "        11592, 11614, 11623, 11649, 11668, 11734, 11761, 11795, 11823, 11849,\n",
            "        11875, 11903, 11922, 11942, 11962, 12004, 12046, 12061, 12072, 12082,\n",
            "        12094, 12124, 12139, 12149, 12167, 12189, 12201, 12237, 12267, 12297,\n",
            "        12333, 12366, 12414, 12441, 12468, 12484, 12491, 12507, 12542, 12570,\n",
            "        12610, 12636, 12684, 12699, 12710, 12760, 12778, 12797, 12811, 12832,\n",
            "        12869, 12917, 12942, 12970, 13003, 13032, 13065, 13095, 13128, 13160,\n",
            "        13188, 13225, 13261, 13299, 13336, 13370, 13394, 13419, 13460, 13487,\n",
            "        13513, 13538, 13565, 13585, 13625, 13646, 13665, 13701, 13733, 13761,\n",
            "        13798, 13816, 13835, 13857, 13900, 13924, 13939, 13953, 14001, 14047,\n",
            "        14073, 14098, 14142, 14181, 14220, 14247, 14273, 14298, 14337, 14363,\n",
            "        14389, 14415, 14449, 14469, 14489, 14508, 14526, 14559, 14574, 14608,\n",
            "        14636, 14670, 14685, 14699, 14719, 14771, 14791, 14811, 14831, 14848,\n",
            "        14860, 14884, 14930, 14943, 14967, 14979, 14991, 15005, 15025, 15053,\n",
            "        15077, 15089, 15115, 15137, 15197, 15236, 15262, 15277, 15302, 15337,\n",
            "        15372, 15410, 15448, 15481, 15513, 15555, 15597, 15638, 15678, 15716,\n",
            "        15759, 15826, 15862, 15908, 15974, 15995, 16017, 16038, 16059, 16100,\n",
            "        16129, 16159, 16189, 16230, 16267, 16293, 16330, 16380, 16407, 16441,\n",
            "        16473, 16508, 16545, 16593, 16634, 16663, 16721, 16778, 16799, 16817,\n",
            "        16859, 16899, 16973, 17017, 17061, 17101, 17145, 17187, 17230, 17271,\n",
            "        17320, 17404, 17448, 17490, 17531, 17572, 17616, 17655, 17680, 17705,\n",
            "        17731, 17783, 17824, 17869, 17900, 17926, 17952, 18004, 18054, 18092,\n",
            "        18129, 18156, 18185, 18233, 18273, 18292, 18306, 18319, 18332, 18376,\n",
            "        18421, 18467, 18514, 18561, 18603, 18654, 18681, 18708, 18768, 18796,\n",
            "        18834, 18857, 18875, 18920, 18941, 18976, 19000, 19021, 19042, 19073,\n",
            "        19100, 19151, 19187, 19233, 19285, 19329, 19374, 19426, 19481, 19532,\n",
            "        19580]), 'y': tensor([  0,   1,   2,   3,   4,   5,   6,   7,   8,   9,  10,  11,  12,  13,\n",
            "         14,  15,  16,  17,  18,  19,  20,  21,  22,  23,  24,  25,  26,  27,\n",
            "         28,  29,  30,  31,  32,  33,  34,  35,  36,  37,  38,  39,  40,  41,\n",
            "         42,  43,  44,  45,  46,  47,  48,  49,  50,  51,  52,  53,  54,  55,\n",
            "         56,  57,  58,  59,  60,  61,  62,  63,  64,  65,  66,  67,  68,  69,\n",
            "         70,  71,  72,  73,  74,  75,  76,  77,  78,  79,  80,  81,  82,  83,\n",
            "         84,  85,  86,  87,  88,  89,  90,  91,  92,  93,  94,  95,  96,  97,\n",
            "         98,  99, 100, 101, 102, 103, 104, 105, 106, 107, 108, 109, 110, 111,\n",
            "        112, 113, 114, 115, 116, 117, 118, 119, 120, 121, 122, 123, 124, 125,\n",
            "        126, 127, 128, 129, 130, 131, 132, 133, 134, 135, 136, 137, 138, 139,\n",
            "        140, 141, 142, 143, 144, 145, 146, 147, 148, 149, 150, 151, 152, 153,\n",
            "        154, 155, 156, 157, 158, 159, 160, 161, 162, 163, 164, 165, 166, 167,\n",
            "        168, 169, 170, 171, 172, 173, 174, 175, 176, 177, 178, 179, 180, 181,\n",
            "        182, 183, 184, 185, 186, 187, 188, 189, 190, 191, 192, 193, 194, 195,\n",
            "        196, 197, 198, 199, 200, 201, 202, 203, 204, 205, 206, 207, 208, 209,\n",
            "        210, 211, 212, 213, 214, 215, 216, 217, 218, 219, 220, 221, 222, 223,\n",
            "        224, 225, 226, 227, 228, 229, 230, 231, 232, 233, 234, 235, 236, 237,\n",
            "        238, 239, 240, 241, 242, 243, 244, 245, 246, 247, 248, 249, 250, 251,\n",
            "        252, 253, 254, 255, 256, 257, 258, 259, 260, 261, 262, 263, 264, 265,\n",
            "        266, 267, 268, 269, 270, 271, 272, 273, 274, 275, 276, 277, 278, 279,\n",
            "        280, 281, 282, 283, 284, 285, 286, 287, 288, 289, 290, 291, 292, 293,\n",
            "        294, 295, 296, 297, 298, 299, 300, 301, 302, 303, 304, 305, 306, 307,\n",
            "        308, 309, 310, 311, 312, 313, 314, 315, 316, 317, 318, 319, 320, 321,\n",
            "        322, 323, 324, 325, 326, 327, 328, 329, 330, 331, 332, 333, 334, 335,\n",
            "        336, 337, 338, 339, 340, 341, 342, 343, 344, 345, 346, 347, 348, 349,\n",
            "        350, 351, 352, 353, 354, 355, 356, 357, 358, 359, 360, 361, 362, 363,\n",
            "        364, 365, 366, 367, 368, 369, 370, 371, 372, 373, 374, 375, 376, 377,\n",
            "        378, 379, 380, 381, 382, 383, 384, 385, 386, 387, 388, 389, 390, 391,\n",
            "        392, 393, 394, 395, 396, 397, 398, 399, 400, 401, 402, 403, 404, 405,\n",
            "        406, 407, 408, 409, 410, 411, 412, 413, 414, 415, 416, 417, 418, 419,\n",
            "        420, 421, 422, 423, 424, 425, 426, 427, 428, 429, 430, 431, 432, 433,\n",
            "        434, 435, 436, 437, 438, 439, 440, 441, 442, 443, 444, 445, 446, 447,\n",
            "        448, 449, 450, 451, 452, 453, 454, 455, 456, 457, 458, 459, 460, 461,\n",
            "        462, 463, 464, 465, 466, 467, 468, 469, 470, 471, 472, 473, 474, 475,\n",
            "        476, 477, 478, 479, 480, 481, 482, 483, 484, 485, 486, 487, 488, 489,\n",
            "        490, 491, 492, 493, 494, 495, 496, 497, 498, 499, 500, 501, 502, 503,\n",
            "        504, 505, 506, 507, 508, 509, 510, 511, 512, 513, 514, 515, 516, 517,\n",
            "        518, 519, 520, 521, 522, 523, 524, 525, 526, 527, 528, 529, 530, 531,\n",
            "        532, 533, 534, 535, 536, 537, 538, 539, 540, 541, 542, 543, 544, 545,\n",
            "        546, 547, 548, 549, 550, 551, 552, 553, 554, 555, 556, 557, 558, 559,\n",
            "        560, 561, 562, 563, 564, 565, 566, 567, 568, 569, 570, 571, 572, 573,\n",
            "        574, 575, 576, 577, 578, 579, 580, 581, 582, 583, 584, 585, 586, 587,\n",
            "        588, 589, 590, 591, 592, 593, 594, 595, 596, 597, 598, 599, 600])}, '_data_list': [Data(edge_index=[2, 168], x=[37, 3], y=[1]), Data(edge_index=[2, 102], x=[23, 3], y=[1]), Data(edge_index=[2, 92], x=[25, 3], y=[1]), Data(edge_index=[2, 90], x=[24, 3], y=[1]), Data(edge_index=[2, 90], x=[23, 3], y=[1]), Data(edge_index=[2, 92], x=[24, 3], y=[1]), Data(edge_index=[2, 118], x=[26, 3], y=[1]), Data(edge_index=[2, 266], x=[88, 3], y=[1]), Data(edge_index=[2, 78], x=[23, 3], y=[1]), Data(edge_index=[2, 106], x=[32, 3], y=[1]), Data(edge_index=[2, 12], x=[4, 3], y=[1]), Data(edge_index=[2, 56], x=[14, 3], y=[1]), Data(edge_index=[2, 150], x=[42, 3], y=[1]), Data(edge_index=[2, 146], x=[41, 3], y=[1]), Data(edge_index=[2, 128], x=[36, 3], y=[1]), Data(edge_index=[2, 194], x=[55, 3], y=[1]), Data(edge_index=[2, 190], x=[40, 3], y=[1]), Data(edge_index=[2, 182], x=[38, 3], y=[1]), Data(edge_index=[2, 2], x=[2, 3], y=[1]), Data(edge_index=[2, 140], x=[35, 3], y=[1]), Data(edge_index=[2, 180], x=[42, 3], y=[1]), Data(edge_index=[2, 180], x=[41, 3], y=[1]), Data(edge_index=[2, 162], x=[39, 3], y=[1]), Data(edge_index=[2, 184], x=[42, 3], y=[1]), Data(edge_index=[2, 176], x=[41, 3], y=[1]), Data(edge_index=[2, 170], x=[40, 3], y=[1]), Data(edge_index=[2, 166], x=[37, 3], y=[1]), Data(edge_index=[2, 98], x=[23, 3], y=[1]), Data(edge_index=[2, 94], x=[22, 3], y=[1]), Data(edge_index=[2, 132], x=[34, 3], y=[1]), Data(edge_index=[2, 162], x=[38, 3], y=[1]), Data(edge_index=[2, 158], x=[38, 3], y=[1]), Data(edge_index=[2, 164], x=[39, 3], y=[1]), Data(edge_index=[2, 28], x=[8, 3], y=[1]), Data(edge_index=[2, 88], x=[23, 3], y=[1]), Data(edge_index=[2, 162], x=[42, 3], y=[1]), Data(edge_index=[2, 160], x=[42, 3], y=[1]), Data(edge_index=[2, 32], x=[100, 3], y=[1]), Data(edge_index=[2, 86], x=[24, 3], y=[1]), Data(edge_index=[2, 100], x=[24, 3], y=[1]), Data(edge_index=[2, 190], x=[47, 3], y=[1]), Data(edge_index=[2, 194], x=[45, 3], y=[1]), Data(edge_index=[2, 190], x=[45, 3], y=[1]), Data(edge_index=[2, 190], x=[45, 3], y=[1]), Data(edge_index=[2, 194], x=[46, 3], y=[1]), Data(edge_index=[2, 190], x=[44, 3], y=[1]), Data(edge_index=[2, 102], x=[30, 3], y=[1]), Data(edge_index=[2, 114], x=[32, 3], y=[1]), Data(edge_index=[2, 128], x=[33, 3], y=[1]), Data(edge_index=[2, 30], x=[9, 3], y=[1]), Data(edge_index=[2, 94], x=[27, 3], y=[1]), Data(edge_index=[2, 170], x=[39, 3], y=[1]), Data(edge_index=[2, 62], x=[16, 3], y=[1]), Data(edge_index=[2, 62], x=[18, 3], y=[1]), Data(edge_index=[2, 24], x=[7, 3], y=[1]), Data(edge_index=[2, 74], x=[18, 3], y=[1]), Data(edge_index=[2, 36], x=[10, 3], y=[1]), Data(edge_index=[2, 100], x=[21, 3], y=[1]), Data(edge_index=[2, 64], x=[18, 3], y=[1]), Data(edge_index=[2, 36], x=[10, 3], y=[1]), Data(edge_index=[2, 32], x=[9, 3], y=[1]), Data(edge_index=[2, 140], x=[39, 3], y=[1]), Data(edge_index=[2, 110], x=[33, 3], y=[1]), Data(edge_index=[2, 98], x=[29, 3], y=[1]), Data(edge_index=[2, 78], x=[24, 3], y=[1]), Data(edge_index=[2, 86], x=[25, 3], y=[1]), Data(edge_index=[2, 108], x=[30, 3], y=[1]), Data(edge_index=[2, 150], x=[38, 3], y=[1]), Data(edge_index=[2, 110], x=[28, 3], y=[1]), Data(edge_index=[2, 108], x=[28, 3], y=[1]), Data(edge_index=[2, 176], x=[38, 3], y=[1]), Data(edge_index=[2, 140], x=[40, 3], y=[1]), Data(edge_index=[2, 174], x=[40, 3], y=[1]), Data(edge_index=[2, 188], x=[42, 3], y=[1]), Data(edge_index=[2, 72], x=[20, 3], y=[1]), Data(edge_index=[2, 70], x=[19, 3], y=[1]), Data(edge_index=[2, 56], x=[16, 3], y=[1]), Data(edge_index=[2, 58], x=[17, 3], y=[1]), Data(edge_index=[2, 80], x=[20, 3], y=[1]), Data(edge_index=[2, 64], x=[18, 3], y=[1]), Data(edge_index=[2, 138], x=[33, 3], y=[1]), Data(edge_index=[2, 88], x=[23, 3], y=[1]), Data(edge_index=[2, 84], x=[23, 3], y=[1]), Data(edge_index=[2, 148], x=[35, 3], y=[1]), Data(edge_index=[2, 136], x=[33, 3], y=[1]), Data(edge_index=[2, 138], x=[39, 3], y=[1]), Data(edge_index=[2, 146], x=[40, 3], y=[1]), Data(edge_index=[2, 182], x=[38, 3], y=[1]), Data(edge_index=[2, 188], x=[40, 3], y=[1]), Data(edge_index=[2, 132], x=[38, 3], y=[1]), Data(edge_index=[2, 158], x=[37, 3], y=[1]), Data(edge_index=[2, 154], x=[36, 3], y=[1]), Data(edge_index=[2, 112], x=[34, 3], y=[1]), Data(edge_index=[2, 134], x=[34, 3], y=[1]), Data(edge_index=[2, 128], x=[32, 3], y=[1]), Data(edge_index=[2, 64], x=[18, 3], y=[1]), Data(edge_index=[2, 130], x=[32, 3], y=[1]), Data(edge_index=[2, 134], x=[34, 3], y=[1]), Data(edge_index=[2, 116], x=[30, 3], y=[1]), Data(edge_index=[2, 18], x=[5, 3], y=[1]), Data(edge_index=[2, 176], x=[45, 3], y=[1]), Data(edge_index=[2, 164], x=[42, 3], y=[1]), Data(edge_index=[2, 230], x=[59, 3], y=[1]), Data(edge_index=[2, 128], x=[32, 3], y=[1]), Data(edge_index=[2, 138], x=[33, 3], y=[1]), Data(edge_index=[2, 60], x=[17, 3], y=[1]), Data(edge_index=[2, 166], x=[39, 3], y=[1]), Data(edge_index=[2, 164], x=[38, 3], y=[1]), Data(edge_index=[2, 140], x=[35, 3], y=[1]), Data(edge_index=[2, 58], x=[16, 3], y=[1]), Data(edge_index=[2, 98], x=[26, 3], y=[1]), Data(edge_index=[2, 190], x=[51, 3], y=[1]), Data(edge_index=[2, 196], x=[52, 3], y=[1]), Data(edge_index=[2, 94], x=[25, 3], y=[1]), Data(edge_index=[2, 102], x=[27, 3], y=[1]), Data(edge_index=[2, 148], x=[42, 3], y=[1]), Data(edge_index=[2, 180], x=[46, 3], y=[1]), Data(edge_index=[2, 242], x=[96, 3], y=[1]), Data(edge_index=[2, 44], x=[12, 3], y=[1]), Data(edge_index=[2, 92], x=[22, 3], y=[1]), Data(edge_index=[2, 164], x=[42, 3], y=[1]), Data(edge_index=[2, 58], x=[14, 3], y=[1]), Data(edge_index=[2, 254], x=[90, 3], y=[1]), Data(edge_index=[2, 62], x=[14, 3], y=[1]), Data(edge_index=[2, 66], x=[14, 3], y=[1]), Data(edge_index=[2, 94], x=[32, 3], y=[1]), Data(edge_index=[2, 46], x=[11, 3], y=[1]), Data(edge_index=[2, 74], x=[26, 3], y=[1]), Data(edge_index=[2, 40], x=[11, 3], y=[1]), Data(edge_index=[2, 50], x=[14, 3], y=[1]), Data(edge_index=[2, 70], x=[18, 3], y=[1]), Data(edge_index=[2, 64], x=[16, 3], y=[1]), Data(edge_index=[2, 68], x=[17, 3], y=[1]), Data(edge_index=[2, 102], x=[32, 3], y=[1]), Data(edge_index=[2, 52], x=[13, 3], y=[1]), Data(edge_index=[2, 6], x=[3, 3], y=[1]), Data(edge_index=[2, 80], x=[22, 3], y=[1]), Data(edge_index=[2, 72], x=[16, 3], y=[1]), Data(edge_index=[2, 164], x=[38, 3], y=[1]), Data(edge_index=[2, 56], x=[13, 3], y=[1]), Data(edge_index=[2, 48], x=[12, 3], y=[1]), Data(edge_index=[2, 58], x=[14, 3], y=[1]), Data(edge_index=[2, 122], x=[39, 3], y=[1]), Data(edge_index=[2, 70], x=[19, 3], y=[1]), Data(edge_index=[2, 78], x=[20, 3], y=[1]), Data(edge_index=[2, 174], x=[39, 3], y=[1]), Data(edge_index=[2, 168], x=[40, 3], y=[1]), Data(edge_index=[2, 160], x=[39, 3], y=[1]), Data(edge_index=[2, 164], x=[39, 3], y=[1]), Data(edge_index=[2, 82], x=[29, 3], y=[1]), Data(edge_index=[2, 80], x=[22, 3], y=[1]), Data(edge_index=[2, 44], x=[11, 3], y=[1]), Data(edge_index=[2, 32], x=[8, 3], y=[1]), Data(edge_index=[2, 44], x=[13, 3], y=[1]), Data(edge_index=[2, 66], x=[18, 3], y=[1]), Data(edge_index=[2, 44], x=[12, 3], y=[1]), Data(edge_index=[2, 30], x=[8, 3], y=[1]), Data(edge_index=[2, 126], x=[40, 3], y=[1]), Data(edge_index=[2, 50], x=[12, 3], y=[1]), Data(edge_index=[2, 96], x=[22, 3], y=[1]), Data(edge_index=[2, 84], x=[22, 3], y=[1]), Data(edge_index=[2, 64], x=[18, 3], y=[1]), Data(edge_index=[2, 44], x=[12, 3], y=[1]), Data(edge_index=[2, 72], x=[17, 3], y=[1]), Data(edge_index=[2, 52], x=[14, 3], y=[1]), Data(edge_index=[2, 72], x=[22, 3], y=[1]), Data(edge_index=[2, 188], x=[43, 3], y=[1]), Data(edge_index=[2, 168], x=[42, 3], y=[1]), Data(edge_index=[2, 188], x=[44, 3], y=[1]), Data(edge_index=[2, 82], x=[24, 3], y=[1]), Data(edge_index=[2, 198], x=[48, 3], y=[1]), Data(edge_index=[2, 92], x=[25, 3], y=[1]), Data(edge_index=[2, 192], x=[46, 3], y=[1]), Data(edge_index=[2, 196], x=[48, 3], y=[1]), Data(edge_index=[2, 86], x=[25, 3], y=[1]), Data(edge_index=[2, 192], x=[48, 3], y=[1]), Data(edge_index=[2, 192], x=[44, 3], y=[1]), Data(edge_index=[2, 176], x=[42, 3], y=[1]), Data(edge_index=[2, 118], x=[40, 3], y=[1]), Data(edge_index=[2, 120], x=[38, 3], y=[1]), Data(edge_index=[2, 162], x=[40, 3], y=[1]), Data(edge_index=[2, 172], x=[41, 3], y=[1]), Data(edge_index=[2, 188], x=[42, 3], y=[1]), Data(edge_index=[2, 182], x=[40, 3], y=[1]), Data(edge_index=[2, 190], x=[44, 3], y=[1]), Data(edge_index=[2, 80], x=[24, 3], y=[1]), Data(edge_index=[2, 188], x=[44, 3], y=[1]), Data(edge_index=[2, 78], x=[20, 3], y=[1]), Data(edge_index=[2, 190], x=[42, 3], y=[1]), Data(edge_index=[2, 98], x=[27, 3], y=[1]), Data(edge_index=[2, 192], x=[48, 3], y=[1]), Data(edge_index=[2, 132], x=[31, 3], y=[1]), Data(edge_index=[2, 120], x=[30, 3], y=[1]), Data(edge_index=[2, 200], x=[46, 3], y=[1]), Data(edge_index=[2, 184], x=[47, 3], y=[1]), Data(edge_index=[2, 172], x=[50, 3], y=[1]), Data(edge_index=[2, 154], x=[40, 3], y=[1]), Data(edge_index=[2, 154], x=[55, 3], y=[1]), Data(edge_index=[2, 216], x=[62, 3], y=[1]), Data(edge_index=[2, 144], x=[34, 3], y=[1]), Data(edge_index=[2, 106], x=[29, 3], y=[1]), Data(edge_index=[2, 90], x=[25, 3], y=[1]), Data(edge_index=[2, 200], x=[56, 3], y=[1]), Data(edge_index=[2, 210], x=[57, 3], y=[1]), Data(edge_index=[2, 122], x=[27, 3], y=[1]), Data(edge_index=[2, 86], x=[22, 3], y=[1]), Data(edge_index=[2, 86], x=[24, 3], y=[1]), Data(edge_index=[2, 100], x=[23, 3], y=[1]), Data(edge_index=[2, 202], x=[57, 3], y=[1]), Data(edge_index=[2, 100], x=[24, 3], y=[1]), Data(edge_index=[2, 100], x=[24, 3], y=[1]), Data(edge_index=[2, 94], x=[23, 3], y=[1]), Data(edge_index=[2, 110], x=[25, 3], y=[1]), Data(edge_index=[2, 102], x=[23, 3], y=[1]), Data(edge_index=[2, 208], x=[48, 3], y=[1]), Data(edge_index=[2, 94], x=[27, 3], y=[1]), Data(edge_index=[2, 68], x=[15, 3], y=[1]), Data(edge_index=[2, 194], x=[44, 3], y=[1]), Data(edge_index=[2, 128], x=[29, 3], y=[1]), Data(edge_index=[2, 82], x=[21, 3], y=[1]), Data(edge_index=[2, 126], x=[34, 3], y=[1]), Data(edge_index=[2, 114], x=[30, 3], y=[1]), Data(edge_index=[2, 158], x=[40, 3], y=[1]), Data(edge_index=[2, 210], x=[54, 3], y=[1]), Data(edge_index=[2, 70], x=[18, 3], y=[1]), Data(edge_index=[2, 148], x=[36, 3], y=[1]), Data(edge_index=[2, 162], x=[37, 3], y=[1]), Data(edge_index=[2, 152], x=[34, 3], y=[1]), Data(edge_index=[2, 100], x=[23, 3], y=[1]), Data(edge_index=[2, 136], x=[32, 3], y=[1]), Data(edge_index=[2, 152], x=[33, 3], y=[1]), Data(edge_index=[2, 130], x=[29, 3], y=[1]), Data(edge_index=[2, 142], x=[39, 3], y=[1]), Data(edge_index=[2, 140], x=[34, 3], y=[1]), Data(edge_index=[2, 142], x=[36, 3], y=[1]), Data(edge_index=[2, 70], x=[21, 3], y=[1]), Data(edge_index=[2, 22], x=[6, 3], y=[1]), Data(edge_index=[2, 100], x=[22, 3], y=[1]), Data(edge_index=[2, 80], x=[18, 3], y=[1]), Data(edge_index=[2, 82], x=[18, 3], y=[1]), Data(edge_index=[2, 128], x=[34, 3], y=[1]), Data(edge_index=[2, 122], x=[32, 3], y=[1]), Data(edge_index=[2, 124], x=[33, 3], y=[1]), Data(edge_index=[2, 124], x=[28, 3], y=[1]), Data(edge_index=[2, 176], x=[40, 3], y=[1]), Data(edge_index=[2, 152], x=[42, 3], y=[1]), Data(edge_index=[2, 116], x=[39, 3], y=[1]), Data(edge_index=[2, 96], x=[28, 3], y=[1]), Data(edge_index=[2, 104], x=[29, 3], y=[1]), Data(edge_index=[2, 134], x=[30, 3], y=[1]), Data(edge_index=[2, 52], x=[14, 3], y=[1]), Data(edge_index=[2, 120], x=[32, 3], y=[1]), Data(edge_index=[2, 132], x=[35, 3], y=[1]), Data(edge_index=[2, 80], x=[24, 3], y=[1]), Data(edge_index=[2, 60], x=[17, 3], y=[1]), Data(edge_index=[2, 66], x=[18, 3], y=[1]), Data(edge_index=[2, 58], x=[16, 3], y=[1]), Data(edge_index=[2, 72], x=[19, 3], y=[1]), Data(edge_index=[2, 70], x=[19, 3], y=[1]), Data(edge_index=[2, 84], x=[21, 3], y=[1]), Data(edge_index=[2, 104], x=[23, 3], y=[1]), Data(edge_index=[2, 102], x=[25, 3], y=[1]), Data(edge_index=[2, 120], x=[27, 3], y=[1]), Data(edge_index=[2, 96], x=[24, 3], y=[1]), Data(edge_index=[2, 98], x=[24, 3], y=[1]), Data(edge_index=[2, 122], x=[32, 3], y=[1]), Data(edge_index=[2, 118], x=[31, 3], y=[1]), Data(edge_index=[2, 142], x=[33, 3], y=[1]), Data(edge_index=[2, 146], x=[34, 3], y=[1]), Data(edge_index=[2, 120], x=[32, 3], y=[1]), Data(edge_index=[2, 140], x=[32, 3], y=[1]), Data(edge_index=[2, 156], x=[44, 3], y=[1]), Data(edge_index=[2, 168], x=[40, 3], y=[1]), Data(edge_index=[2, 146], x=[40, 3], y=[1]), Data(edge_index=[2, 122], x=[38, 3], y=[1]), Data(edge_index=[2, 112], x=[30, 3], y=[1]), Data(edge_index=[2, 140], x=[38, 3], y=[1]), Data(edge_index=[2, 170], x=[44, 3], y=[1]), Data(edge_index=[2, 214], x=[60, 3], y=[1]), Data(edge_index=[2, 102], x=[28, 3], y=[1]), Data(edge_index=[2, 64], x=[16, 3], y=[1]), Data(edge_index=[2, 172], x=[50, 3], y=[1]), Data(edge_index=[2, 174], x=[52, 3], y=[1]), Data(edge_index=[2, 156], x=[48, 3], y=[1]), Data(edge_index=[2, 168], x=[50, 3], y=[1]), Data(edge_index=[2, 164], x=[42, 3], y=[1]), Data(edge_index=[2, 166], x=[43, 3], y=[1]), Data(edge_index=[2, 158], x=[41, 3], y=[1]), Data(edge_index=[2, 160], x=[39, 3], y=[1]), Data(edge_index=[2, 148], x=[38, 3], y=[1]), Data(edge_index=[2, 208], x=[62, 3], y=[1]), Data(edge_index=[2, 200], x=[60, 3], y=[1]), Data(edge_index=[2, 218], x=[96, 3], y=[1]), Data(edge_index=[2, 198], x=[54, 3], y=[1]), Data(edge_index=[2, 278], x=[124, 3], y=[1]), Data(edge_index=[2, 282], x=[126, 3], y=[1]), Data(edge_index=[2, 298], x=[122, 3], y=[1]), Data(edge_index=[2, 102], x=[24, 3], y=[1]), Data(edge_index=[2, 148], x=[41, 3], y=[1]), Data(edge_index=[2, 186], x=[49, 3], y=[1]), Data(edge_index=[2, 178], x=[44, 3], y=[1]), Data(edge_index=[2, 168], x=[42, 3], y=[1]), Data(edge_index=[2, 166], x=[41, 3], y=[1]), Data(edge_index=[2, 164], x=[42, 3], y=[1]), Data(edge_index=[2, 186], x=[46, 3], y=[1]), Data(edge_index=[2, 196], x=[55, 3], y=[1]), Data(edge_index=[2, 184], x=[50, 3], y=[1]), Data(edge_index=[2, 164], x=[42, 3], y=[1]), Data(edge_index=[2, 188], x=[48, 3], y=[1]), Data(edge_index=[2, 198], x=[51, 3], y=[1]), Data(edge_index=[2, 100], x=[24, 3], y=[1]), Data(edge_index=[2, 178], x=[51, 3], y=[1]), Data(edge_index=[2, 192], x=[52, 3], y=[1]), Data(edge_index=[2, 76], x=[22, 3], y=[1]), Data(edge_index=[2, 184], x=[44, 3], y=[1]), Data(edge_index=[2, 180], x=[44, 3], y=[1]), Data(edge_index=[2, 128], x=[31, 3], y=[1]), Data(edge_index=[2, 106], x=[27, 3], y=[1]), Data(edge_index=[2, 90], x=[25, 3], y=[1]), Data(edge_index=[2, 106], x=[38, 3], y=[1]), Data(edge_index=[2, 84], x=[21, 3], y=[1]), Data(edge_index=[2, 114], x=[29, 3], y=[1]), Data(edge_index=[2, 74], x=[20, 3], y=[1]), Data(edge_index=[2, 74], x=[21, 3], y=[1]), Data(edge_index=[2, 196], x=[50, 3], y=[1]), Data(edge_index=[2, 192], x=[46, 3], y=[1]), Data(edge_index=[2, 188], x=[49, 3], y=[1]), Data(edge_index=[2, 98], x=[27, 3], y=[1]), Data(edge_index=[2, 44], x=[12, 3], y=[1]), Data(edge_index=[2, 52], x=[14, 3], y=[1]), Data(edge_index=[2, 96], x=[23, 3], y=[1]), Data(edge_index=[2, 102], x=[24, 3], y=[1]), Data(edge_index=[2, 122], x=[33, 3], y=[1]), Data(edge_index=[2, 102], x=[27, 3], y=[1]), Data(edge_index=[2, 102], x=[25, 3], y=[1]), Data(edge_index=[2, 104], x=[28, 3], y=[1]), Data(edge_index=[2, 108], x=[28, 3], y=[1]), Data(edge_index=[2, 44], x=[12, 3], y=[1]), Data(edge_index=[2, 98], x=[26, 3], y=[1]), Data(edge_index=[2, 98], x=[28, 3], y=[1]), Data(edge_index=[2, 108], x=[28, 3], y=[1]), Data(edge_index=[2, 98], x=[26, 3], y=[1]), Data(edge_index=[2, 90], x=[24, 3], y=[1]), Data(edge_index=[2, 78], x=[23, 3], y=[1]), Data(edge_index=[2, 116], x=[27, 3], y=[1]), Data(edge_index=[2, 134], x=[39, 3], y=[1]), Data(edge_index=[2, 174], x=[42, 3], y=[1]), Data(edge_index=[2, 170], x=[42, 3], y=[1]), Data(edge_index=[2, 236], x=[64, 3], y=[1]), Data(edge_index=[2, 142], x=[38, 3], y=[1]), Data(edge_index=[2, 84], x=[22, 3], y=[1]), Data(edge_index=[2, 16], x=[9, 3], y=[1]), Data(edge_index=[2, 102], x=[26, 3], y=[1]), Data(edge_index=[2, 84], x=[19, 3], y=[1]), Data(edge_index=[2, 224], x=[66, 3], y=[1]), Data(edge_index=[2, 112], x=[27, 3], y=[1]), Data(edge_index=[2, 124], x=[34, 3], y=[1]), Data(edge_index=[2, 112], x=[28, 3], y=[1]), Data(edge_index=[2, 92], x=[26, 3], y=[1]), Data(edge_index=[2, 108], x=[26, 3], y=[1]), Data(edge_index=[2, 118], x=[28, 3], y=[1]), Data(edge_index=[2, 82], x=[19, 3], y=[1]), Data(edge_index=[2, 92], x=[20, 3], y=[1]), Data(edge_index=[2, 98], x=[20, 3], y=[1]), Data(edge_index=[2, 150], x=[42, 3], y=[1]), Data(edge_index=[2, 152], x=[42, 3], y=[1]), Data(edge_index=[2, 50], x=[15, 3], y=[1]), Data(edge_index=[2, 38], x=[11, 3], y=[1]), Data(edge_index=[2, 34], x=[10, 3], y=[1]), Data(edge_index=[2, 48], x=[12, 3], y=[1]), Data(edge_index=[2, 104], x=[30, 3], y=[1]), Data(edge_index=[2, 52], x=[15, 3], y=[1]), Data(edge_index=[2, 40], x=[10, 3], y=[1]), Data(edge_index=[2, 68], x=[18, 3], y=[1]), Data(edge_index=[2, 80], x=[22, 3], y=[1]), Data(edge_index=[2, 44], x=[12, 3], y=[1]), Data(edge_index=[2, 140], x=[36, 3], y=[1]), Data(edge_index=[2, 102], x=[30, 3], y=[1]), Data(edge_index=[2, 104], x=[30, 3], y=[1]), Data(edge_index=[2, 122], x=[36, 3], y=[1]), Data(edge_index=[2, 116], x=[33, 3], y=[1]), Data(edge_index=[2, 188], x=[48, 3], y=[1]), Data(edge_index=[2, 104], x=[27, 3], y=[1]), Data(edge_index=[2, 108], x=[27, 3], y=[1]), Data(edge_index=[2, 58], x=[16, 3], y=[1]), Data(edge_index=[2, 28], x=[7, 3], y=[1]), Data(edge_index=[2, 56], x=[16, 3], y=[1]), Data(edge_index=[2, 128], x=[35, 3], y=[1]), Data(edge_index=[2, 110], x=[28, 3], y=[1]), Data(edge_index=[2, 162], x=[40, 3], y=[1]), Data(edge_index=[2, 102], x=[26, 3], y=[1]), Data(edge_index=[2, 178], x=[48, 3], y=[1]), Data(edge_index=[2, 56], x=[15, 3], y=[1]), Data(edge_index=[2, 44], x=[11, 3], y=[1]), Data(edge_index=[2, 196], x=[50, 3], y=[1]), Data(edge_index=[2, 70], x=[18, 3], y=[1]), Data(edge_index=[2, 78], x=[19, 3], y=[1]), Data(edge_index=[2, 46], x=[14, 3], y=[1]), Data(edge_index=[2, 86], x=[21, 3], y=[1]), Data(edge_index=[2, 116], x=[37, 3], y=[1]), Data(edge_index=[2, 194], x=[48, 3], y=[1]), Data(edge_index=[2, 102], x=[25, 3], y=[1]), Data(edge_index=[2, 114], x=[28, 3], y=[1]), Data(edge_index=[2, 112], x=[33, 3], y=[1]), Data(edge_index=[2, 100], x=[29, 3], y=[1]), Data(edge_index=[2, 128], x=[33, 3], y=[1]), Data(edge_index=[2, 120], x=[30, 3], y=[1]), Data(edge_index=[2, 132], x=[33, 3], y=[1]), Data(edge_index=[2, 120], x=[32, 3], y=[1]), Data(edge_index=[2, 124], x=[28, 3], y=[1]), Data(edge_index=[2, 138], x=[37, 3], y=[1]), Data(edge_index=[2, 136], x=[36, 3], y=[1]), Data(edge_index=[2, 158], x=[38, 3], y=[1]), Data(edge_index=[2, 146], x=[37, 3], y=[1]), Data(edge_index=[2, 152], x=[34, 3], y=[1]), Data(edge_index=[2, 92], x=[24, 3], y=[1]), Data(edge_index=[2, 94], x=[25, 3], y=[1]), Data(edge_index=[2, 152], x=[41, 3], y=[1]), Data(edge_index=[2, 102], x=[27, 3], y=[1]), Data(edge_index=[2, 94], x=[26, 3], y=[1]), Data(edge_index=[2, 98], x=[25, 3], y=[1]), Data(edge_index=[2, 114], x=[27, 3], y=[1]), Data(edge_index=[2, 76], x=[20, 3], y=[1]), Data(edge_index=[2, 132], x=[40, 3], y=[1]), Data(edge_index=[2, 78], x=[21, 3], y=[1]), Data(edge_index=[2, 66], x=[19, 3], y=[1]), Data(edge_index=[2, 128], x=[36, 3], y=[1]), Data(edge_index=[2, 114], x=[32, 3], y=[1]), Data(edge_index=[2, 108], x=[28, 3], y=[1]), Data(edge_index=[2, 114], x=[37, 3], y=[1]), Data(edge_index=[2, 74], x=[18, 3], y=[1]), Data(edge_index=[2, 78], x=[19, 3], y=[1]), Data(edge_index=[2, 92], x=[22, 3], y=[1]), Data(edge_index=[2, 140], x=[43, 3], y=[1]), Data(edge_index=[2, 92], x=[24, 3], y=[1]), Data(edge_index=[2, 66], x=[15, 3], y=[1]), Data(edge_index=[2, 46], x=[14, 3], y=[1]), Data(edge_index=[2, 198], x=[48, 3], y=[1]), Data(edge_index=[2, 198], x=[46, 3], y=[1]), Data(edge_index=[2, 100], x=[26, 3], y=[1]), Data(edge_index=[2, 112], x=[25, 3], y=[1]), Data(edge_index=[2, 190], x=[44, 3], y=[1]), Data(edge_index=[2, 152], x=[39, 3], y=[1]), Data(edge_index=[2, 158], x=[39, 3], y=[1]), Data(edge_index=[2, 102], x=[27, 3], y=[1]), Data(edge_index=[2, 116], x=[26, 3], y=[1]), Data(edge_index=[2, 112], x=[25, 3], y=[1]), Data(edge_index=[2, 146], x=[39, 3], y=[1]), Data(edge_index=[2, 114], x=[26, 3], y=[1]), Data(edge_index=[2, 116], x=[26, 3], y=[1]), Data(edge_index=[2, 102], x=[26, 3], y=[1]), Data(edge_index=[2, 108], x=[34, 3], y=[1]), Data(edge_index=[2, 90], x=[20, 3], y=[1]), Data(edge_index=[2, 78], x=[20, 3], y=[1]), Data(edge_index=[2, 74], x=[19, 3], y=[1]), Data(edge_index=[2, 68], x=[18, 3], y=[1]), Data(edge_index=[2, 84], x=[33, 3], y=[1]), Data(edge_index=[2, 58], x=[15, 3], y=[1]), Data(edge_index=[2, 154], x=[34, 3], y=[1]), Data(edge_index=[2, 130], x=[28, 3], y=[1]), Data(edge_index=[2, 158], x=[34, 3], y=[1]), Data(edge_index=[2, 60], x=[15, 3], y=[1]), Data(edge_index=[2, 52], x=[14, 3], y=[1]), Data(edge_index=[2, 90], x=[20, 3], y=[1]), Data(edge_index=[2, 198], x=[52, 3], y=[1]), Data(edge_index=[2, 76], x=[20, 3], y=[1]), Data(edge_index=[2, 82], x=[20, 3], y=[1]), Data(edge_index=[2, 74], x=[20, 3], y=[1]), Data(edge_index=[2, 60], x=[17, 3], y=[1]), Data(edge_index=[2, 48], x=[12, 3], y=[1]), Data(edge_index=[2, 74], x=[24, 3], y=[1]), Data(edge_index=[2, 186], x=[46, 3], y=[1]), Data(edge_index=[2, 52], x=[13, 3], y=[1]), Data(edge_index=[2, 90], x=[24, 3], y=[1]), Data(edge_index=[2, 46], x=[12, 3], y=[1]), Data(edge_index=[2, 48], x=[12, 3], y=[1]), Data(edge_index=[2, 52], x=[14, 3], y=[1]), Data(edge_index=[2, 76], x=[20, 3], y=[1]), Data(edge_index=[2, 98], x=[28, 3], y=[1]), Data(edge_index=[2, 76], x=[24, 3], y=[1]), Data(edge_index=[2, 48], x=[12, 3], y=[1]), Data(edge_index=[2, 88], x=[26, 3], y=[1]), Data(edge_index=[2, 92], x=[22, 3], y=[1]), Data(edge_index=[2, 160], x=[60, 3], y=[1]), Data(edge_index=[2, 144], x=[39, 3], y=[1]), Data(edge_index=[2, 102], x=[26, 3], y=[1]), Data(edge_index=[2, 54], x=[15, 3], y=[1]), Data(edge_index=[2, 84], x=[25, 3], y=[1]), Data(edge_index=[2, 122], x=[35, 3], y=[1]), Data(edge_index=[2, 134], x=[35, 3], y=[1]), Data(edge_index=[2, 140], x=[38, 3], y=[1]), Data(edge_index=[2, 158], x=[38, 3], y=[1]), Data(edge_index=[2, 136], x=[33, 3], y=[1]), Data(edge_index=[2, 122], x=[32, 3], y=[1]), Data(edge_index=[2, 154], x=[42, 3], y=[1]), Data(edge_index=[2, 152], x=[42, 3], y=[1]), Data(edge_index=[2, 156], x=[41, 3], y=[1]), Data(edge_index=[2, 144], x=[40, 3], y=[1]), Data(edge_index=[2, 152], x=[38, 3], y=[1]), Data(edge_index=[2, 196], x=[43, 3], y=[1]), Data(edge_index=[2, 160], x=[67, 3], y=[1]), Data(edge_index=[2, 146], x=[36, 3], y=[1]), Data(edge_index=[2, 166], x=[46, 3], y=[1]), Data(edge_index=[2, 240], x=[66, 3], y=[1]), Data(edge_index=[2, 86], x=[21, 3], y=[1]), Data(edge_index=[2, 98], x=[22, 3], y=[1]), Data(edge_index=[2, 92], x=[21, 3], y=[1]), Data(edge_index=[2, 96], x=[21, 3], y=[1]), Data(edge_index=[2, 176], x=[41, 3], y=[1]), Data(edge_index=[2, 130], x=[29, 3], y=[1]), Data(edge_index=[2, 134], x=[30, 3], y=[1]), Data(edge_index=[2, 136], x=[30, 3], y=[1]), Data(edge_index=[2, 184], x=[41, 3], y=[1]), Data(edge_index=[2, 176], x=[37, 3], y=[1]), Data(edge_index=[2, 102], x=[26, 3], y=[1]), Data(edge_index=[2, 142], x=[37, 3], y=[1]), Data(edge_index=[2, 178], x=[50, 3], y=[1]), Data(edge_index=[2, 112], x=[27, 3], y=[1]), Data(edge_index=[2, 154], x=[34, 3], y=[1]), Data(edge_index=[2, 148], x=[32, 3], y=[1]), Data(edge_index=[2, 158], x=[35, 3], y=[1]), Data(edge_index=[2, 164], x=[37, 3], y=[1]), Data(edge_index=[2, 222], x=[48, 3], y=[1]), Data(edge_index=[2, 148], x=[41, 3], y=[1]), Data(edge_index=[2, 132], x=[29, 3], y=[1]), Data(edge_index=[2, 220], x=[58, 3], y=[1]), Data(edge_index=[2, 214], x=[57, 3], y=[1]), Data(edge_index=[2, 106], x=[21, 3], y=[1]), Data(edge_index=[2, 86], x=[18, 3], y=[1]), Data(edge_index=[2, 166], x=[42, 3], y=[1]), Data(edge_index=[2, 164], x=[40, 3], y=[1]), Data(edge_index=[2, 240], x=[74, 3], y=[1]), Data(edge_index=[2, 170], x=[44, 3], y=[1]), Data(edge_index=[2, 198], x=[44, 3], y=[1]), Data(edge_index=[2, 168], x=[40, 3], y=[1]), Data(edge_index=[2, 184], x=[44, 3], y=[1]), Data(edge_index=[2, 178], x=[42, 3], y=[1]), Data(edge_index=[2, 176], x=[43, 3], y=[1]), Data(edge_index=[2, 184], x=[41, 3], y=[1]), Data(edge_index=[2, 184], x=[49, 3], y=[1]), Data(edge_index=[2, 152], x=[84, 3], y=[1]), Data(edge_index=[2, 202], x=[44, 3], y=[1]), Data(edge_index=[2, 152], x=[42, 3], y=[1]), Data(edge_index=[2, 158], x=[41, 3], y=[1]), Data(edge_index=[2, 154], x=[41, 3], y=[1]), Data(edge_index=[2, 164], x=[44, 3], y=[1]), Data(edge_index=[2, 164], x=[39, 3], y=[1]), Data(edge_index=[2, 90], x=[25, 3], y=[1]), Data(edge_index=[2, 94], x=[25, 3], y=[1]), Data(edge_index=[2, 90], x=[26, 3], y=[1]), Data(edge_index=[2, 196], x=[52, 3], y=[1]), Data(edge_index=[2, 172], x=[41, 3], y=[1]), Data(edge_index=[2, 164], x=[45, 3], y=[1]), Data(edge_index=[2, 128], x=[31, 3], y=[1]), Data(edge_index=[2, 92], x=[26, 3], y=[1]), Data(edge_index=[2, 96], x=[26, 3], y=[1]), Data(edge_index=[2, 198], x=[52, 3], y=[1]), Data(edge_index=[2, 186], x=[50, 3], y=[1]), Data(edge_index=[2, 134], x=[38, 3], y=[1]), Data(edge_index=[2, 134], x=[37, 3], y=[1]), Data(edge_index=[2, 104], x=[27, 3], y=[1]), Data(edge_index=[2, 110], x=[29, 3], y=[1]), Data(edge_index=[2, 160], x=[48, 3], y=[1]), Data(edge_index=[2, 148], x=[40, 3], y=[1]), Data(edge_index=[2, 68], x=[19, 3], y=[1]), Data(edge_index=[2, 66], x=[14, 3], y=[1]), Data(edge_index=[2, 62], x=[13, 3], y=[1]), Data(edge_index=[2, 68], x=[13, 3], y=[1]), Data(edge_index=[2, 170], x=[44, 3], y=[1]), Data(edge_index=[2, 156], x=[45, 3], y=[1]), Data(edge_index=[2, 164], x=[46, 3], y=[1]), Data(edge_index=[2, 158], x=[47, 3], y=[1]), Data(edge_index=[2, 164], x=[47, 3], y=[1]), Data(edge_index=[2, 180], x=[42, 3], y=[1]), Data(edge_index=[2, 220], x=[51, 3], y=[1]), Data(edge_index=[2, 102], x=[27, 3], y=[1]), Data(edge_index=[2, 104], x=[27, 3], y=[1]), Data(edge_index=[2, 206], x=[60, 3], y=[1]), Data(edge_index=[2, 106], x=[28, 3], y=[1]), Data(edge_index=[2, 150], x=[38, 3], y=[1]), Data(edge_index=[2, 106], x=[23, 3], y=[1]), Data(edge_index=[2, 74], x=[18, 3], y=[1]), Data(edge_index=[2, 194], x=[45, 3], y=[1]), Data(edge_index=[2, 90], x=[21, 3], y=[1]), Data(edge_index=[2, 142], x=[35, 3], y=[1]), Data(edge_index=[2, 102], x=[24, 3], y=[1]), Data(edge_index=[2, 84], x=[21, 3], y=[1]), Data(edge_index=[2, 84], x=[21, 3], y=[1]), Data(edge_index=[2, 124], x=[31, 3], y=[1]), Data(edge_index=[2, 112], x=[27, 3], y=[1]), Data(edge_index=[2, 196], x=[51, 3], y=[1]), Data(edge_index=[2, 156], x=[36, 3], y=[1]), Data(edge_index=[2, 144], x=[46, 3], y=[1]), Data(edge_index=[2, 228], x=[52, 3], y=[1]), Data(edge_index=[2, 180], x=[44, 3], y=[1]), Data(edge_index=[2, 182], x=[45, 3], y=[1]), Data(edge_index=[2, 232], x=[52, 3], y=[1]), Data(edge_index=[2, 200], x=[55, 3], y=[1]), Data(edge_index=[2, 190], x=[51, 3], y=[1]), Data(edge_index=[2, 156], x=[48, 3], y=[1])], 'sizes': {'num_node_attributes': 18, 'num_node_labels': 3, 'num_edge_attributes': 0, 'num_edge_labels': 0}}\n",
            "6\n",
            "0\n",
            "0\n",
            "0\n"
          ]
        }
      ],
      "source": [
        "print(pyg_dataset)\n",
        "print(type(pyg_dataset))\n",
        "print(dir(pyg_dataset))\n",
        "print(vars(pyg_dataset))\n",
        "#print(help(pyg_dataset))\n",
        "#print(pyg_dataset.get_summary())\n",
        "#print(pyg_dataset.indices())\n",
        "#print(pyg_dataset.len())\n",
        "print(pyg_dataset.num_classes)\n",
        "print(pyg_dataset.num_edge_attributes)\n",
        "print(pyg_dataset.num_edge_features)\n",
        "print(pyg_dataset.num_edge_features)"
      ]
    },
    {
      "cell_type": "code",
      "execution_count": 24,
      "metadata": {
        "id": "8iF_Kyqr_JbY"
      },
      "outputs": [
        {
          "name": "stdout",
          "output_type": "stream",
          "text": [
            "ENZYMES dataset has 6 classes\n",
            "ENZYMES dataset has 3 features\n"
          ]
        }
      ],
      "source": [
        "def get_num_classes(pyg_dataset):\n",
        "  # TODO: Implement a function that takes a PyG dataset object\n",
        "  # and returns the number of classes for that dataset.\n",
        "\n",
        "  num_classes = pyg_dataset.num_classes\n",
        "\n",
        "  ############# Your code here ############\n",
        "  ## (~1 line of code)\n",
        "  ## Note\n",
        "  ## 1. Colab autocomplete functionality might be useful.\n",
        "\n",
        "  #########################################\n",
        "\n",
        "  return num_classes\n",
        "\n",
        "def get_num_features(pyg_dataset):\n",
        "  # TODO: Implement a function that takes a PyG dataset object\n",
        "  # and returns the number of features for that dataset.\n",
        "\n",
        "  num_features = pyg_dataset.num_features\n",
        "\n",
        "  ############# Your code here ############\n",
        "  ## (~1 line of code)\n",
        "  ## Note\n",
        "  ## 1. Colab autocomplete functionality might be useful.\n",
        "\n",
        "  #########################################\n",
        "\n",
        "  return num_features\n",
        "\n",
        "if 'IS_GRADESCOPE_ENV' not in os.environ:\n",
        "  num_classes = get_num_classes(pyg_dataset)\n",
        "  num_features = get_num_features(pyg_dataset)\n",
        "  print(\"{} dataset has {} classes\".format(name, num_classes))\n",
        "  print(\"{} dataset has {} features\".format(name, num_features))"
      ]
    },
    {
      "cell_type": "markdown",
      "metadata": {
        "id": "rwKbzhHUAckZ"
      },
      "source": [
        "## PyG Data\n",
        "\n",
        "Each PyG dataset stores a list of `torch_geometric.data.Data` objects, where each `torch_geometric.data.Data` object represents a graph. We can easily get the `Data` object by indexing into the dataset.\n",
        "\n",
        "For more information such as what is stored in the `Data` object, please refer to the [documentation](https://pytorch-geometric.readthedocs.io/en/latest/modules/data.html#torch_geometric.data.Data)."
      ]
    },
    {
      "cell_type": "markdown",
      "metadata": {
        "id": "7sCV3xJWCddX"
      },
      "source": [
        "## Question 2: What is the label of the graph with index 100 in the ENZYMES dataset? (5 points)"
      ]
    },
    {
      "cell_type": "code",
      "execution_count": 34,
      "metadata": {
        "id": "LIis9oTZAfs3"
      },
      "outputs": [
        {
          "name": "stdout",
          "output_type": "stream",
          "text": [
            "Data(edge_index=[2, 168], x=[37, 3], y=[1])\n",
            "Graph with index 100 has label tensor([4])\n"
          ]
        }
      ],
      "source": [
        "def get_graph_class(pyg_dataset, idx):\n",
        "  # TODO: Implement a function that takes a PyG dataset object,\n",
        "  # an index of a graph within the dataset, and returns the class/label \n",
        "  # of the graph (as an integer).\n",
        "\n",
        "  label = -1\n",
        "  label = pyg_dataset[idx].y\n",
        "  \n",
        "  ############# Your code here ############\n",
        "  ## (~1 line of code)\n",
        "\n",
        "  #########################################\n",
        "\n",
        "  return label\n",
        "\n",
        "# Here pyg_dataset is a dataset for graph classification\n",
        "if 'IS_GRADESCOPE_ENV' not in os.environ:\n",
        "  graph_0 = pyg_dataset[0]\n",
        "  print(graph_0)\n",
        "  idx = 100\n",
        "  label = get_graph_class(pyg_dataset, idx)\n",
        "  print('Graph with index {} has label {}'.format(idx, label))"
      ]
    },
    {
      "cell_type": "markdown",
      "metadata": {
        "id": "fKhcVeAhCwoY"
      },
      "source": [
        "## Question 3: How many edges does the graph with index 200 have? (5 points)"
      ]
    },
    {
      "cell_type": "code",
      "execution_count": 44,
      "metadata": {},
      "outputs": [
        {
          "data": {
            "text/plain": [
              "106"
            ]
          },
          "execution_count": 44,
          "metadata": {},
          "output_type": "execute_result"
        }
      ],
      "source": [
        "dir(pyg_dataset[200].edge_index)\n",
        "pyg_dataset[200].edge_index.shape[1]"
      ]
    },
    {
      "cell_type": "code",
      "execution_count": 45,
      "metadata": {
        "id": "f5m2DOfhBtWv"
      },
      "outputs": [
        {
          "name": "stdout",
          "output_type": "stream",
          "text": [
            "Graph with index 200 has 106 edges\n"
          ]
        }
      ],
      "source": [
        "def get_graph_num_edges(pyg_dataset, idx):\n",
        "  # TODO: Implement a function that takes a PyG dataset object,\n",
        "  # the index of a graph in the dataset, and returns the number of \n",
        "  # edges in the graph (as an integer). You should not count an edge \n",
        "  # twice if the graph is undirected. For example, in an undirected \n",
        "  # graph G, if two nodes v and u are connected by an edge, this edge\n",
        "  # should only be counted once.\n",
        "\n",
        "  num_edges = 0\n",
        "  num_edges = pyg_dataset[idx].edge_index.shape[1]\n",
        "\n",
        "  ############# Your code here ############\n",
        "  ## Note:\n",
        "  ## 1. You can't return the data.num_edges directly\n",
        "  ## 2. We assume the graph is undirected\n",
        "  ## 3. Look at the PyG dataset built in functions\n",
        "  ## (~4 lines of code)\n",
        "  #########################################\n",
        "\n",
        "  return num_edges\n",
        "\n",
        "if 'IS_GRADESCOPE_ENV' not in os.environ:\n",
        "  idx = 200\n",
        "  num_edges = get_graph_num_edges(pyg_dataset, idx)\n",
        "  print('Graph with index {} has {} edges'.format(idx, num_edges))"
      ]
    },
    {
      "cell_type": "markdown",
      "metadata": {
        "id": "AXa7yIG4E0Fp"
      },
      "source": [
        "# 2) Open Graph Benchmark (OGB)\n",
        "\n",
        "The Open Graph Benchmark (OGB) is a collection of realistic, large-scale, and diverse benchmark datasets for machine learning on graphs. Its datasets are automatically downloaded, processed, and split using the OGB Data Loader. The model performance can then be evaluated by using the OGB Evaluator in a unified manner."
      ]
    },
    {
      "cell_type": "markdown",
      "metadata": {
        "id": "HnazPGGAJAZN"
      },
      "source": [
        "## Dataset and Data\n",
        "\n",
        "OGB also supports PyG dataset and data classes. Here we take a look on the `ogbn-arxiv` dataset."
      ]
    },
    {
      "cell_type": "code",
      "execution_count": 46,
      "metadata": {
        "id": "Gpc6bTm3GF02"
      },
      "outputs": [
        {
          "name": "stdout",
          "output_type": "stream",
          "text": [
            "Downloading http://snap.stanford.edu/ogb/data/nodeproppred/arxiv.zip\n"
          ]
        },
        {
          "name": "stderr",
          "output_type": "stream",
          "text": [
            "Downloaded 0.08 GB: 100%|██████████| 81/81 [00:23<00:00,  3.41it/s]\n",
            "Processing...\n"
          ]
        },
        {
          "name": "stdout",
          "output_type": "stream",
          "text": [
            "Extracting dataset/arxiv.zip\n",
            "Loading necessary files...\n",
            "This might take a while.\n",
            "Processing graphs...\n"
          ]
        },
        {
          "name": "stderr",
          "output_type": "stream",
          "text": [
            "100%|██████████| 1/1 [00:00<00:00, 14513.16it/s]\n"
          ]
        },
        {
          "name": "stdout",
          "output_type": "stream",
          "text": [
            "Converting graphs into PyG objects...\n"
          ]
        },
        {
          "name": "stderr",
          "output_type": "stream",
          "text": [
            "100%|██████████| 1/1 [00:00<00:00, 264.69it/s]"
          ]
        },
        {
          "name": "stdout",
          "output_type": "stream",
          "text": [
            "Saving...\n",
            "The ogbn-arxiv dataset has 1 graph\n"
          ]
        },
        {
          "name": "stderr",
          "output_type": "stream",
          "text": [
            "\n",
            "Done!\n"
          ]
        },
        {
          "name": "stdout",
          "output_type": "stream",
          "text": [
            "Data(num_nodes=169343, x=[169343, 128], node_year=[169343, 1], y=[169343, 1], adj_t=[169343, 169343, nnz=1166243])\n"
          ]
        }
      ],
      "source": [
        "import torch_geometric.transforms as T\n",
        "from ogb.nodeproppred import PygNodePropPredDataset\n",
        "\n",
        "if 'IS_GRADESCOPE_ENV' not in os.environ:\n",
        "  dataset_name = 'ogbn-arxiv'\n",
        "  # Load the dataset and transform it to sparse tensor\n",
        "  dataset = PygNodePropPredDataset(name=dataset_name,\n",
        "                                  transform=T.ToSparseTensor())\n",
        "  print('The {} dataset has {} graph'.format(dataset_name, len(dataset)))\n",
        "\n",
        "  # Extract the graph\n",
        "  data = dataset[0]\n",
        "  print(data)"
      ]
    },
    {
      "cell_type": "markdown",
      "metadata": {
        "id": "Cw0xZJKZI-n3"
      },
      "source": [
        "## Question 4: How many features are in the ogbn-arxiv graph? (5 points)"
      ]
    },
    {
      "cell_type": "code",
      "execution_count": 48,
      "metadata": {},
      "outputs": [
        {
          "data": {
            "text/plain": [
              "torch.Size([169343, 128])"
            ]
          },
          "execution_count": 48,
          "metadata": {},
          "output_type": "execute_result"
        }
      ],
      "source": [
        "data.x.shape"
      ]
    },
    {
      "cell_type": "code",
      "execution_count": 49,
      "metadata": {
        "id": "ZP844_nT2ZJl"
      },
      "outputs": [
        {
          "name": "stdout",
          "output_type": "stream",
          "text": [
            "The graph has 128 features\n"
          ]
        }
      ],
      "source": [
        "def graph_num_features(data):\n",
        "  # TODO: Implement a function that takes a PyG data object,\n",
        "  # and returns the number of features in the graph (as an integer).\n",
        "\n",
        "  num_features = 0\n",
        "  num_features = data.x.shape[1]\n",
        "\n",
        "  ############# Your code here ############\n",
        "  ## (~1 line of code)\n",
        "\n",
        "  #########################################\n",
        "\n",
        "  return num_features\n",
        "\n",
        "if 'IS_GRADESCOPE_ENV' not in os.environ:\n",
        "  num_features = graph_num_features(data)\n",
        "  print('The graph has {} features'.format(num_features))"
      ]
    },
    {
      "cell_type": "markdown",
      "metadata": {
        "id": "9DP_yEQZ0NVW"
      },
      "source": [
        "# 3) GNN: Node Property Prediction\n",
        "\n",
        "In this section we will build our first graph neural network using PyTorch Geometric. Then we will apply it to the task of node property prediction (node classification).\n",
        "\n",
        "Specifically, we will use GCN as the foundation for your graph neural network ([Kipf et al. (2017)](https://arxiv.org/pdf/1609.02907.pdf)). To do so, we will work with PyG's built-in `GCNConv` layer. "
      ]
    },
    {
      "cell_type": "markdown",
      "metadata": {
        "id": "O4CcOUEoInjD"
      },
      "source": [
        "## Setup"
      ]
    },
    {
      "cell_type": "code",
      "execution_count": 50,
      "metadata": {
        "id": "-DCtgcHpGIpd"
      },
      "outputs": [
        {
          "name": "stdout",
          "output_type": "stream",
          "text": [
            "1.12.1\n"
          ]
        }
      ],
      "source": [
        "import torch\n",
        "import pandas as pd\n",
        "import torch.nn.functional as F\n",
        "print(torch.__version__)\n",
        "\n",
        "# The PyG built-in GCNConv\n",
        "from torch_geometric.nn import GCNConv\n",
        "\n",
        "import torch_geometric.transforms as T\n",
        "from ogb.nodeproppred import PygNodePropPredDataset, Evaluator"
      ]
    },
    {
      "cell_type": "markdown",
      "metadata": {
        "id": "0IK9z0wQIwzQ"
      },
      "source": [
        "## Load and Preprocess the Dataset"
      ]
    },
    {
      "cell_type": "code",
      "execution_count": 51,
      "metadata": {
        "id": "0ibJ0ieoIwQM"
      },
      "outputs": [
        {
          "name": "stdout",
          "output_type": "stream",
          "text": [
            "Device: cpu\n"
          ]
        }
      ],
      "source": [
        "if 'IS_GRADESCOPE_ENV' not in os.environ:\n",
        "  dataset_name = 'ogbn-arxiv'\n",
        "  dataset = PygNodePropPredDataset(name=dataset_name,\n",
        "                                  transform=T.ToSparseTensor())\n",
        "  data = dataset[0]\n",
        "\n",
        "  # Make the adjacency matrix to symmetric\n",
        "  data.adj_t = data.adj_t.to_symmetric()\n",
        "\n",
        "  device = 'cuda' if torch.cuda.is_available() else 'cpu'\n",
        "\n",
        "  # If you use GPU, the device should be cuda\n",
        "  print('Device: {}'.format(device))\n",
        "\n",
        "  data = data.to(device)\n",
        "  split_idx = dataset.get_idx_split()\n",
        "  train_idx = split_idx['train'].to(device)"
      ]
    },
    {
      "cell_type": "markdown",
      "metadata": {
        "id": "OgUA815bNJ8w"
      },
      "source": [
        "## GCN Model\n",
        "\n",
        "Now we will implement our GCN model!\n",
        "\n",
        "Please follow the figure below to implement the `forward` function.\n",
        "\n",
        "\n",
        "![test](https://drive.google.com/uc?id=128AuYAXNXGg7PIhJJ7e420DoPWKb-RtL)"
      ]
    },
    {
      "cell_type": "code",
      "execution_count": null,
      "metadata": {
        "id": "IgspXTYpNJLA"
      },
      "outputs": [],
      "source": [
        "class GCN(torch.nn.Module):\n",
        "    def __init__(self, input_dim, hidden_dim, output_dim, num_layers,\n",
        "                 dropout, return_embeds=False):\n",
        "        # TODO: Implement a function that initializes self.convs, \n",
        "        # self.bns, and self.softmax.\n",
        "\n",
        "        super(GCN, self).__init__()\n",
        "\n",
        "        # A list of GCNConv layers\n",
        "        self.convs = None\n",
        "\n",
        "        # A list of 1D batch normalization layers\n",
        "        self.bns = None\n",
        "\n",
        "        # The log softmax layer\n",
        "        self.softmax = None\n",
        "\n",
        "        ############# Your code here ############\n",
        "        ## Note:\n",
        "        ## 1. You should use torch.nn.ModuleList for self.convs and self.bns\n",
        "        ## 2. self.convs has num_layers GCNConv layers\n",
        "        ## 3. self.bns has num_layers - 1 BatchNorm1d layers\n",
        "        ## 4. You should use torch.nn.LogSoftmax for self.softmax\n",
        "        ## 5. The parameters you can set for GCNConv include 'in_channels' and \n",
        "        ## 'out_channels'. For more information please refer to the documentation:\n",
        "        ## https://pytorch-geometric.readthedocs.io/en/latest/modules/nn.html#torch_geometric.nn.conv.GCNConv\n",
        "        ## 6. The only parameter you need to set for BatchNorm1d is 'num_features'\n",
        "        ## For more information please refer to the documentation: \n",
        "        ## https://pytorch.org/docs/stable/generated/torch.nn.BatchNorm1d.html\n",
        "        ## (~10 lines of code)\n",
        "\n",
        "        self.convs = torch.nn.ModuleList()\n",
        "        for i in range(num_layers):\n",
        "            if i == 0:\n",
        "                in_channels = input_dim\n",
        "            else:\n",
        "                in_channels = hidden_dim\n",
        "\n",
        "            if i == num_layers - 1:\n",
        "                out_channels = output_dim\n",
        "            else:\n",
        "                out_channels = hidden_dim\n",
        "\n",
        "        self.convs.append(torch_geometric.nn.conv.GCNConv(in_channels, out_channels))\n",
        "\n",
        "        #########################################\n",
        "\n",
        "        # Probability of an element getting zeroed\n",
        "        self.dropout = dropout\n",
        "\n",
        "        # Skip classification layer and return node embeddings\n",
        "        self.return_embeds = return_embeds\n",
        "\n",
        "    def reset_parameters(self):\n",
        "        for conv in self.convs:\n",
        "            conv.reset_parameters()\n",
        "        for bn in self.bns:\n",
        "            bn.reset_parameters()\n",
        "\n",
        "    def forward(self, x, adj_t):\n",
        "        # TODO: Implement a function that takes the feature tensor x and\n",
        "        # edge_index tensor adj_t and returns the output tensor as\n",
        "        # shown in the figure.\n",
        "\n",
        "        out = None\n",
        "\n",
        "        ############# Your code here ############\n",
        "        ## Note:\n",
        "        ## 1. Construct the network as shown in the figure\n",
        "        ## 2. torch.nn.functional.relu and torch.nn.functional.dropout are useful\n",
        "        ## For more information please refer to the documentation:\n",
        "        ## https://pytorch.org/docs/stable/nn.functional.html\n",
        "        ## 3. Don't forget to set F.dropout training to self.training\n",
        "        ## 4. If return_embeds is True, then skip the last softmax layer\n",
        "        ## (~7 lines of code)\n",
        "\n",
        "        #########################################\n",
        "\n",
        "        return out"
      ]
    },
    {
      "cell_type": "code",
      "execution_count": null,
      "metadata": {
        "id": "FF1hnHUhO81e"
      },
      "outputs": [],
      "source": [
        "def train(model, data, train_idx, optimizer, loss_fn):\n",
        "    # TODO: Implement a function that trains the model by \n",
        "    # using the given optimizer and loss_fn.\n",
        "    model.train()\n",
        "    loss = 0\n",
        "\n",
        "    ############# Your code here ############\n",
        "    ## Note:\n",
        "    ## 1. Zero grad the optimizer\n",
        "    ## 2. Feed the data into the model\n",
        "    ## 3. Slice the model output and label by train_idx\n",
        "    ## 4. Feed the sliced output and label to loss_fn\n",
        "    ## (~4 lines of code)\n",
        "\n",
        "    #########################################\n",
        "\n",
        "    loss.backward()\n",
        "    optimizer.step()\n",
        "\n",
        "    return loss.item()"
      ]
    },
    {
      "cell_type": "code",
      "execution_count": null,
      "metadata": {
        "id": "aJdlrJQhPBsK"
      },
      "outputs": [],
      "source": [
        "# Test function here\n",
        "@torch.no_grad()\n",
        "def test(model, data, split_idx, evaluator, save_model_results=False):\n",
        "    # TODO: Implement a function that tests the model by \n",
        "    # using the given split_idx and evaluator.\n",
        "    model.eval()\n",
        "\n",
        "    # The output of model on all data\n",
        "    out = None\n",
        "\n",
        "    ############# Your code here ############\n",
        "    ## (~1 line of code)\n",
        "    ## Note:\n",
        "    ## 1. No index slicing here\n",
        "\n",
        "    #########################################\n",
        "\n",
        "    y_pred = out.argmax(dim=-1, keepdim=True)\n",
        "\n",
        "    train_acc = evaluator.eval({\n",
        "        'y_true': data.y[split_idx['train']],\n",
        "        'y_pred': y_pred[split_idx['train']],\n",
        "    })['acc']\n",
        "    valid_acc = evaluator.eval({\n",
        "        'y_true': data.y[split_idx['valid']],\n",
        "        'y_pred': y_pred[split_idx['valid']],\n",
        "    })['acc']\n",
        "    test_acc = evaluator.eval({\n",
        "        'y_true': data.y[split_idx['test']],\n",
        "        'y_pred': y_pred[split_idx['test']],\n",
        "    })['acc']\n",
        "\n",
        "    if save_model_results:\n",
        "      print (\"Saving Model Predictions\")\n",
        "\n",
        "      data = {}\n",
        "      data['y_pred'] = y_pred.view(-1).cpu().detach().numpy()\n",
        "\n",
        "      df = pd.DataFrame(data=data)\n",
        "      # Save locally as csv\n",
        "      df.to_csv('ogbn-arxiv_node.csv', sep=',', index=False)\n",
        "\n",
        "\n",
        "    return train_acc, valid_acc, test_acc"
      ]
    },
    {
      "cell_type": "code",
      "execution_count": null,
      "metadata": {
        "id": "o7F46xkuLiOL"
      },
      "outputs": [],
      "source": [
        "# Please do not change the args\n",
        "if 'IS_GRADESCOPE_ENV' not in os.environ:\n",
        "  args = {\n",
        "      'device': device,\n",
        "      'num_layers': 3,\n",
        "      'hidden_dim': 256,\n",
        "      'dropout': 0.5,\n",
        "      'lr': 0.01,\n",
        "      'epochs': 100,\n",
        "  }\n",
        "  args"
      ]
    },
    {
      "cell_type": "code",
      "execution_count": null,
      "metadata": {
        "id": "dT8RyM2cPGxM"
      },
      "outputs": [],
      "source": [
        "if 'IS_GRADESCOPE_ENV' not in os.environ:\n",
        "  model = GCN(data.num_features, args['hidden_dim'],\n",
        "              dataset.num_classes, args['num_layers'],\n",
        "              args['dropout']).to(device)\n",
        "  evaluator = Evaluator(name='ogbn-arxiv')"
      ]
    },
    {
      "cell_type": "code",
      "execution_count": null,
      "metadata": {
        "id": "qd5O5cnPPdVF"
      },
      "outputs": [],
      "source": [
        "import copy\n",
        "if 'IS_GRADESCOPE_ENV' not in os.environ:\n",
        "  # reset the parameters to initial random value\n",
        "  model.reset_parameters()\n",
        "\n",
        "  optimizer = torch.optim.Adam(model.parameters(), lr=args['lr'])\n",
        "  loss_fn = F.nll_loss\n",
        "\n",
        "  best_model = None\n",
        "  best_valid_acc = 0\n",
        "\n",
        "  for epoch in range(1, 1 + args[\"epochs\"]):\n",
        "    loss = train(model, data, train_idx, optimizer, loss_fn)\n",
        "    result = test(model, data, split_idx, evaluator)\n",
        "    train_acc, valid_acc, test_acc = result\n",
        "    if valid_acc > best_valid_acc:\n",
        "        best_valid_acc = valid_acc\n",
        "        best_model = copy.deepcopy(model)\n",
        "    print(f'Epoch: {epoch:02d}, '\n",
        "          f'Loss: {loss:.4f}, '\n",
        "          f'Train: {100 * train_acc:.2f}%, '\n",
        "          f'Valid: {100 * valid_acc:.2f}% '\n",
        "          f'Test: {100 * test_acc:.2f}%')"
      ]
    },
    {
      "cell_type": "markdown",
      "metadata": {
        "id": "dQtt-EKA8P4r"
      },
      "source": [
        "## Question 5: What are your `best_model` validation and test accuracies?(20 points)\n",
        "\n",
        "Run the cell below to see the results of your best of model and save your model's predictions to a file named *ogbn-arxiv_node.csv*. \n",
        "\n",
        "You can view this file by clicking on the *Folder* icon on the left side pannel. As in Colab 1, when you sumbit your assignment, you will have to download this file and attatch it to your submission."
      ]
    },
    {
      "cell_type": "code",
      "execution_count": null,
      "metadata": {
        "id": "EqcextqOL2FX"
      },
      "outputs": [],
      "source": [
        "if 'IS_GRADESCOPE_ENV' not in os.environ:\n",
        "  best_result = test(best_model, data, split_idx, evaluator, save_model_results=True)\n",
        "  train_acc, valid_acc, test_acc = best_result\n",
        "  print(f'Best model: '\n",
        "        f'Train: {100 * train_acc:.2f}%, '\n",
        "        f'Valid: {100 * valid_acc:.2f}% '\n",
        "        f'Test: {100 * test_acc:.2f}%')"
      ]
    },
    {
      "cell_type": "markdown",
      "metadata": {
        "id": "R8pOD6y80TyI"
      },
      "source": [
        "# 4) GNN: Graph Property Prediction\n",
        "\n",
        "In this section we will create a graph neural network for graph property prediction (graph classification).\n"
      ]
    },
    {
      "cell_type": "markdown",
      "metadata": {
        "id": "vRg5VOEdQTa4"
      },
      "source": [
        "## Load and preprocess the dataset"
      ]
    },
    {
      "cell_type": "code",
      "execution_count": null,
      "metadata": {
        "id": "LXb-O5QUIgTH"
      },
      "outputs": [],
      "source": [
        "from ogb.graphproppred import PygGraphPropPredDataset, Evaluator\n",
        "from torch_geometric.data import DataLoader\n",
        "from tqdm.notebook import tqdm\n",
        "\n",
        "if 'IS_GRADESCOPE_ENV' not in os.environ:\n",
        "  # Load the dataset \n",
        "  dataset = PygGraphPropPredDataset(name='ogbg-molhiv')\n",
        "\n",
        "  device = 'cuda' if torch.cuda.is_available() else 'cpu'\n",
        "  print('Device: {}'.format(device))\n",
        "\n",
        "  split_idx = dataset.get_idx_split()\n",
        "\n",
        "  # Check task type\n",
        "  print('Task type: {}'.format(dataset.task_type))"
      ]
    },
    {
      "cell_type": "code",
      "execution_count": null,
      "metadata": {
        "id": "7cHHbgW1c5hi"
      },
      "outputs": [],
      "source": [
        "# Load the dataset splits into corresponding dataloaders\n",
        "# We will train the graph classification task on a batch of 32 graphs\n",
        "# Shuffle the order of graphs for training set\n",
        "if 'IS_GRADESCOPE_ENV' not in os.environ:\n",
        "  train_loader = DataLoader(dataset[split_idx[\"train\"]], batch_size=32, shuffle=True, num_workers=0)\n",
        "  valid_loader = DataLoader(dataset[split_idx[\"valid\"]], batch_size=32, shuffle=False, num_workers=0)\n",
        "  test_loader = DataLoader(dataset[split_idx[\"test\"]], batch_size=32, shuffle=False, num_workers=0)"
      ]
    },
    {
      "cell_type": "code",
      "execution_count": null,
      "metadata": {
        "id": "AYrSnOj0Y4DK"
      },
      "outputs": [],
      "source": [
        "if 'IS_GRADESCOPE_ENV' not in os.environ:\n",
        "  # Please do not change the args\n",
        "  args = {\n",
        "      'device': device,\n",
        "      'num_layers': 5,\n",
        "      'hidden_dim': 256,\n",
        "      'dropout': 0.5,\n",
        "      'lr': 0.001,\n",
        "      'epochs': 30,\n",
        "  }\n",
        "  args"
      ]
    },
    {
      "cell_type": "markdown",
      "metadata": {
        "id": "7WLhguSTeazy"
      },
      "source": [
        "## Graph Prediction Model"
      ]
    },
    {
      "cell_type": "markdown",
      "metadata": {
        "id": "u05Z14TRYPGn"
      },
      "source": [
        "### Graph Mini-Batching\n",
        "Before diving into the actual model, we introduce the concept of mini-batching with graphs. In order to parallelize the processing of a mini-batch of graphs, PyG combines the graphs into a single disconnected graph data object (*torch_geometric.data.Batch*). *torch_geometric.data.Batch* inherits from *torch_geometric.data.Data* (introduced earlier) and contains an additional attribute called `batch`. \n",
        "\n",
        "The `batch` attribute is a vector mapping each node to the index of its corresponding graph within the mini-batch:\n",
        "\n",
        "    batch = [0, ..., 0, 1, ..., n - 2, n - 1, ..., n - 1]\n",
        "\n",
        "This attribute is crucial for associating which graph each node belongs to and can be used to e.g. average the node embeddings for each graph individually to compute graph level embeddings. \n",
        "\n"
      ]
    },
    {
      "cell_type": "markdown",
      "metadata": {
        "id": "Pcic9NNU3nGK"
      },
      "source": [
        "### Implemention\n",
        "Now, we have all of the tools to implement a GCN Graph Prediction model!  \n",
        "\n",
        "We will reuse the existing GCN model to generate `node_embeddings` and then use  `Global Pooling` over the nodes to create graph level embeddings that can be used to predict properties for the each graph. Remeber that the `batch` attribute will be essential for performining Global Pooling over our mini-batch of graphs."
      ]
    },
    {
      "cell_type": "code",
      "execution_count": null,
      "metadata": {
        "id": "3_Kq3zyjeZ22"
      },
      "outputs": [],
      "source": [
        "from ogb.graphproppred.mol_encoder import AtomEncoder\n",
        "from torch_geometric.nn import global_add_pool, global_mean_pool\n",
        "\n",
        "### GCN to predict graph property\n",
        "class GCN_Graph(torch.nn.Module):\n",
        "    def __init__(self, hidden_dim, output_dim, num_layers, dropout):\n",
        "        super(GCN_Graph, self).__init__()\n",
        "\n",
        "        # Load encoders for Atoms in molecule graphs\n",
        "        self.node_encoder = AtomEncoder(hidden_dim)\n",
        "\n",
        "        # Node embedding model\n",
        "        # Note that the input_dim and output_dim are set to hidden_dim\n",
        "        self.gnn_node = GCN(hidden_dim, hidden_dim,\n",
        "            hidden_dim, num_layers, dropout, return_embeds=True)\n",
        "\n",
        "        self.pool = None\n",
        "\n",
        "        ############# Your code here ############\n",
        "        ## Note:\n",
        "        ## 1. Initialize self.pool as a global mean pooling layer\n",
        "        ## For more information please refer to the documentation:\n",
        "        ## https://pytorch-geometric.readthedocs.io/en/latest/modules/nn.html#global-pooling-layers\n",
        "\n",
        "        #########################################\n",
        "\n",
        "        # Output layer\n",
        "        self.linear = torch.nn.Linear(hidden_dim, output_dim)\n",
        "\n",
        "\n",
        "    def reset_parameters(self):\n",
        "      self.gnn_node.reset_parameters()\n",
        "      self.linear.reset_parameters()\n",
        "\n",
        "    def forward(self, batched_data):\n",
        "        # TODO: Implement a function that takes as input a \n",
        "        # mini-batch of graphs (torch_geometric.data.Batch) and \n",
        "        # returns the predicted graph property for each graph. \n",
        "        #\n",
        "        # NOTE: Since we are predicting graph level properties,\n",
        "        # your output will be a tensor with dimension equaling\n",
        "        # the number of graphs in the mini-batch\n",
        "\n",
        "    \n",
        "        # Extract important attributes of our mini-batch\n",
        "        x, edge_index, batch = batched_data.x, batched_data.edge_index, batched_data.batch\n",
        "        embed = self.node_encoder(x)\n",
        "\n",
        "        out = None\n",
        "\n",
        "        ############# Your code here ############\n",
        "        ## Note:\n",
        "        ## 1. Construct node embeddings using existing GCN model\n",
        "        ## 2. Use the global pooling layer to aggregate features for each individual graph\n",
        "        ## For more information please refer to the documentation:\n",
        "        ## https://pytorch-geometric.readthedocs.io/en/latest/modules/nn.html#global-pooling-layers\n",
        "        ## 3. Use a linear layer to predict each graph's property\n",
        "        ## (~3 lines of code)\n",
        "\n",
        "        #########################################\n",
        "\n",
        "        return out"
      ]
    },
    {
      "cell_type": "code",
      "execution_count": null,
      "metadata": {
        "id": "FJjnGuMSbjX0"
      },
      "outputs": [],
      "source": [
        "def train(model, device, data_loader, optimizer, loss_fn):\n",
        "    # TODO: Implement a function that trains your model by \n",
        "    # using the given optimizer and loss_fn.\n",
        "    model.train()\n",
        "    loss = 0\n",
        "\n",
        "    for step, batch in enumerate(tqdm(data_loader, desc=\"Iteration\")):\n",
        "      batch = batch.to(device)\n",
        "\n",
        "      if batch.x.shape[0] == 1 or batch.batch[-1] == 0:\n",
        "          pass\n",
        "      else:\n",
        "        ## ignore nan targets (unlabeled) when computing training loss.\n",
        "        is_labeled = batch.y == batch.y\n",
        "\n",
        "        ############# Your code here ############\n",
        "        ## Note:\n",
        "        ## 1. Zero grad the optimizer\n",
        "        ## 2. Feed the data into the model\n",
        "        ## 3. Use `is_labeled` mask to filter output and labels\n",
        "        ## 4. You may need to change the type of label to torch.float32\n",
        "        ## 5. Feed the output and label to the loss_fn\n",
        "        ## (~3 lines of code)\n",
        "\n",
        "        #########################################\n",
        "\n",
        "        loss.backward()\n",
        "        optimizer.step()\n",
        "\n",
        "    return loss.item()"
      ]
    },
    {
      "cell_type": "code",
      "execution_count": null,
      "metadata": {
        "id": "ztPHXq_Gzn7U"
      },
      "outputs": [],
      "source": [
        "# The evaluation function\n",
        "def eval(model, device, loader, evaluator, save_model_results=False, save_file=None):\n",
        "    model.eval()\n",
        "    y_true = []\n",
        "    y_pred = []\n",
        "\n",
        "    for step, batch in enumerate(tqdm(loader, desc=\"Iteration\")):\n",
        "        batch = batch.to(device)\n",
        "\n",
        "        if batch.x.shape[0] == 1:\n",
        "            pass\n",
        "        else:\n",
        "            with torch.no_grad():\n",
        "                pred = model(batch)\n",
        "\n",
        "            y_true.append(batch.y.view(pred.shape).detach().cpu())\n",
        "            y_pred.append(pred.detach().cpu())\n",
        "\n",
        "    y_true = torch.cat(y_true, dim = 0).numpy()\n",
        "    y_pred = torch.cat(y_pred, dim = 0).numpy()\n",
        "\n",
        "    input_dict = {\"y_true\": y_true, \"y_pred\": y_pred}\n",
        "\n",
        "    if save_model_results:\n",
        "        print (\"Saving Model Predictions\")\n",
        "        \n",
        "        # Create a pandas dataframe with a two columns\n",
        "        # y_pred | y_true\n",
        "        data = {}\n",
        "        data['y_pred'] = y_pred.reshape(-1)\n",
        "        data['y_true'] = y_true.reshape(-1)\n",
        "\n",
        "        df = pd.DataFrame(data=data)\n",
        "        # Save to csv\n",
        "        df.to_csv('ogbg-molhiv_graph_' + save_file + '.csv', sep=',', index=False)\n",
        "\n",
        "    return evaluator.eval(input_dict)"
      ]
    },
    {
      "cell_type": "code",
      "execution_count": null,
      "metadata": {
        "id": "MR1wQ4hMZeMw"
      },
      "outputs": [],
      "source": [
        "if 'IS_GRADESCOPE_ENV' not in os.environ:\n",
        "  model = GCN_Graph(args['hidden_dim'],\n",
        "              dataset.num_tasks, args['num_layers'],\n",
        "              args['dropout']).to(device)\n",
        "  evaluator = Evaluator(name='ogbg-molhiv')"
      ]
    },
    {
      "cell_type": "code",
      "execution_count": null,
      "metadata": {
        "id": "qJGTNZiuZy0A"
      },
      "outputs": [],
      "source": [
        "import copy\n",
        "\n",
        "if 'IS_GRADESCOPE_ENV' not in os.environ:\n",
        "  model.reset_parameters()\n",
        "\n",
        "  optimizer = torch.optim.Adam(model.parameters(), lr=args['lr'])\n",
        "  loss_fn = torch.nn.BCEWithLogitsLoss()\n",
        "\n",
        "  best_model = None\n",
        "  best_valid_acc = 0\n",
        "\n",
        "  for epoch in range(1, 1 + args[\"epochs\"]):\n",
        "    print('Training...')\n",
        "    loss = train(model, device, train_loader, optimizer, loss_fn)\n",
        "\n",
        "    print('Evaluating...')\n",
        "    train_result = eval(model, device, train_loader, evaluator)\n",
        "    val_result = eval(model, device, valid_loader, evaluator)\n",
        "    test_result = eval(model, device, test_loader, evaluator)\n",
        "\n",
        "    train_acc, valid_acc, test_acc = train_result[dataset.eval_metric], val_result[dataset.eval_metric], test_result[dataset.eval_metric]\n",
        "    if valid_acc > best_valid_acc:\n",
        "        best_valid_acc = valid_acc\n",
        "        best_model = copy.deepcopy(model)\n",
        "    print(f'Epoch: {epoch:02d}, '\n",
        "          f'Loss: {loss:.4f}, '\n",
        "          f'Train: {100 * train_acc:.2f}%, '\n",
        "          f'Valid: {100 * valid_acc:.2f}% '\n",
        "          f'Test: {100 * test_acc:.2f}%')"
      ]
    },
    {
      "cell_type": "markdown",
      "metadata": {
        "id": "6I17-Qso_n88"
      },
      "source": [
        "## Question 6: What are your `best_model` validation and test ROC-AUC scores? (20 points)\n",
        "\n",
        "Run the cell below to see the results of your best of model and save your model's predictions over the validation and test datasets. The resulting files are named *ogbn-arxiv_graph_valid.csv* and *ogbn-arxiv_graph_test.csv*. \n",
        "\n",
        "Again, you can view these files by clicking on the *Folder* icon on the left side pannel. As in Colab 1, when you sumbit your assignment, you will have to download these files and attatch them to your submission."
      ]
    },
    {
      "cell_type": "code",
      "execution_count": null,
      "metadata": {
        "id": "Oq5QaG21dOOO"
      },
      "outputs": [],
      "source": [
        "if 'IS_GRADESCOPE_ENV' not in os.environ:\n",
        "  train_acc = eval(best_model, device, train_loader, evaluator)[dataset.eval_metric]\n",
        "  valid_acc = eval(best_model, device, valid_loader, evaluator, save_model_results=True, save_file=\"valid\")[dataset.eval_metric]\n",
        "  test_acc  = eval(best_model, device, test_loader, evaluator, save_model_results=True, save_file=\"test\")[dataset.eval_metric]\n",
        "\n",
        "  print(f'Best model: '\n",
        "      f'Train: {100 * train_acc:.2f}%, '\n",
        "      f'Valid: {100 * valid_acc:.2f}% '\n",
        "      f'Test: {100 * test_acc:.2f}%')"
      ]
    },
    {
      "cell_type": "markdown",
      "metadata": {
        "id": "gBi_t8n0iZ4P"
      },
      "source": [
        "## Question 7 (Optional): Experiment with the two other global pooling layers in Pytorch Geometric."
      ]
    },
    {
      "cell_type": "markdown",
      "metadata": {
        "id": "e7JXsMTBgeOI"
      },
      "source": [
        "# Submission\n",
        "\n",
        "You will need to submit four files on Gradescope to complete this notebook. \n",
        "\n",
        "1.   Your completed *CS224W_Colab2.ipynb*. From the \"File\" menu select \"Download .ipynb\" to save a local copy of your completed Colab. **PLEASE DO NOT CHANGE THE NAME!** The autograder depends on the .ipynb file being called \"CS224W_Colab2.ipynb\".\n",
        "2.  *ogbn-arxiv_node.csv* \n",
        "3.  *ogbg-molhiv_graph_valid.csv*\n",
        "4.  *ogbg-molhiv_graph_test.csv*\n",
        "\n",
        "Download the csv files by selecting the *Folder* icon on the left panel. \n",
        "\n",
        "To submit your work, zip the files downloaded in steps 1-4 above and submit to gradescope. **NOTE:** DO NOT rename any of the downloaded files. "
      ]
    }
  ],
  "metadata": {
    "accelerator": "GPU",
    "colab": {
      "machine_shape": "hm",
      "provenance": []
    },
    "kernelspec": {
      "display_name": "cs224w",
      "language": "python",
      "name": "python3"
    },
    "language_info": {
      "codemirror_mode": {
        "name": "ipython",
        "version": 3
      },
      "file_extension": ".py",
      "mimetype": "text/x-python",
      "name": "python",
      "nbconvert_exporter": "python",
      "pygments_lexer": "ipython3",
      "version": "3.10.9"
    },
    "vscode": {
      "interpreter": {
        "hash": "af1cc046ba03afff74be0fe90f2a457678d0ca171ed5f8217c655992528bd5d1"
      }
    }
  },
  "nbformat": 4,
  "nbformat_minor": 0
}
